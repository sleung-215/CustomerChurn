{
 "cells": [
  {
   "cell_type": "markdown",
   "metadata": {},
   "source": [
    "<h1> <b>Telecommunications Customer Churn Data Model </b> </h1>"
   ]
  },
  {
   "cell_type": "code",
   "execution_count": 1,
   "metadata": {
    "scrolled": true
   },
   "outputs": [
    {
     "name": "stdout",
     "output_type": "stream",
     "text": [
      "Requirement already satisfied: scikit-plot in c:\\users\\sleung225\\anaconda3\\lib\\site-packages (0.3.7)\n",
      "Requirement already satisfied: scipy>=0.9 in c:\\users\\sleung225\\anaconda3\\lib\\site-packages (from scikit-plot) (1.5.0)\n",
      "Requirement already satisfied: joblib>=0.10 in c:\\users\\sleung225\\anaconda3\\lib\\site-packages (from scikit-plot) (0.16.0)\n",
      "Requirement already satisfied: matplotlib>=1.4.0 in c:\\users\\sleung225\\anaconda3\\lib\\site-packages (from scikit-plot) (3.2.2)\n",
      "Requirement already satisfied: scikit-learn>=0.18 in c:\\users\\sleung225\\anaconda3\\lib\\site-packages (from scikit-plot) (0.23.1)\n",
      "Requirement already satisfied: numpy>=1.14.5 in c:\\users\\sleung225\\anaconda3\\lib\\site-packages (from scipy>=0.9->scikit-plot) (1.18.5)\n",
      "Requirement already satisfied: cycler>=0.10 in c:\\users\\sleung225\\anaconda3\\lib\\site-packages (from matplotlib>=1.4.0->scikit-plot) (0.10.0)\n",
      "Requirement already satisfied: python-dateutil>=2.1 in c:\\users\\sleung225\\anaconda3\\lib\\site-packages (from matplotlib>=1.4.0->scikit-plot) (2.8.1)\n",
      "Requirement already satisfied: pyparsing!=2.0.4,!=2.1.2,!=2.1.6,>=2.0.1 in c:\\users\\sleung225\\anaconda3\\lib\\site-packages (from matplotlib>=1.4.0->scikit-plot) (2.4.7)\n",
      "Requirement already satisfied: kiwisolver>=1.0.1 in c:\\users\\sleung225\\anaconda3\\lib\\site-packages (from matplotlib>=1.4.0->scikit-plot) (1.2.0)\n",
      "Requirement already satisfied: threadpoolctl>=2.0.0 in c:\\users\\sleung225\\anaconda3\\lib\\site-packages (from scikit-learn>=0.18->scikit-plot) (2.1.0)\n",
      "Requirement already satisfied: six in c:\\users\\sleung225\\anaconda3\\lib\\site-packages (from cycler>=0.10->matplotlib>=1.4.0->scikit-plot) (1.15.0)\n",
      "Requirement already up-to-date: imbalanced-learn in c:\\users\\sleung225\\anaconda3\\lib\\site-packages (0.7.0)\n",
      "Requirement already satisfied, skipping upgrade: scipy>=0.19.1 in c:\\users\\sleung225\\anaconda3\\lib\\site-packages (from imbalanced-learn) (1.5.0)\n",
      "Requirement already satisfied, skipping upgrade: scikit-learn>=0.23 in c:\\users\\sleung225\\anaconda3\\lib\\site-packages (from imbalanced-learn) (0.23.1)\n",
      "Requirement already satisfied, skipping upgrade: joblib>=0.11 in c:\\users\\sleung225\\anaconda3\\lib\\site-packages (from imbalanced-learn) (0.16.0)\n",
      "Requirement already satisfied, skipping upgrade: numpy>=1.13.3 in c:\\users\\sleung225\\anaconda3\\lib\\site-packages (from imbalanced-learn) (1.18.5)\n",
      "Requirement already satisfied, skipping upgrade: threadpoolctl>=2.0.0 in c:\\users\\sleung225\\anaconda3\\lib\\site-packages (from scikit-learn>=0.23->imbalanced-learn) (2.1.0)\n",
      "Requirement already satisfied: prince in c:\\users\\sleung225\\anaconda3\\lib\\site-packages (0.7.1)\n",
      "Requirement already satisfied: scipy>=1.3.0 in c:\\users\\sleung225\\anaconda3\\lib\\site-packages (from prince) (1.5.0)\n",
      "Requirement already satisfied: numpy>=1.17.1 in c:\\users\\sleung225\\anaconda3\\lib\\site-packages (from prince) (1.18.5)\n",
      "Requirement already satisfied: matplotlib>=3.0.2 in c:\\users\\sleung225\\anaconda3\\lib\\site-packages (from prince) (3.2.2)\n",
      "Requirement already satisfied: scikit-learn>=0.22.1 in c:\\users\\sleung225\\anaconda3\\lib\\site-packages (from prince) (0.23.1)\n",
      "Requirement already satisfied: pandas>=1.0.3 in c:\\users\\sleung225\\anaconda3\\lib\\site-packages (from prince) (1.0.5)\n",
      "Requirement already satisfied: pyparsing!=2.0.4,!=2.1.2,!=2.1.6,>=2.0.1 in c:\\users\\sleung225\\anaconda3\\lib\\site-packages (from matplotlib>=3.0.2->prince) (2.4.7)\n",
      "Requirement already satisfied: python-dateutil>=2.1 in c:\\users\\sleung225\\anaconda3\\lib\\site-packages (from matplotlib>=3.0.2->prince) (2.8.1)\n",
      "Requirement already satisfied: kiwisolver>=1.0.1 in c:\\users\\sleung225\\anaconda3\\lib\\site-packages (from matplotlib>=3.0.2->prince) (1.2.0)\n",
      "Requirement already satisfied: cycler>=0.10 in c:\\users\\sleung225\\anaconda3\\lib\\site-packages (from matplotlib>=3.0.2->prince) (0.10.0)\n",
      "Requirement already satisfied: joblib>=0.11 in c:\\users\\sleung225\\anaconda3\\lib\\site-packages (from scikit-learn>=0.22.1->prince) (0.16.0)\n",
      "Requirement already satisfied: threadpoolctl>=2.0.0 in c:\\users\\sleung225\\anaconda3\\lib\\site-packages (from scikit-learn>=0.22.1->prince) (2.1.0)\n",
      "Requirement already satisfied: pytz>=2017.2 in c:\\users\\sleung225\\anaconda3\\lib\\site-packages (from pandas>=1.0.3->prince) (2020.1)\n",
      "Requirement already satisfied: six>=1.5 in c:\\users\\sleung225\\anaconda3\\lib\\site-packages (from python-dateutil>=2.1->matplotlib>=3.0.2->prince) (1.15.0)\n",
      "Requirement already satisfied: seaborn in c:\\users\\sleung225\\anaconda3\\lib\\site-packages (0.10.1)\n",
      "Requirement already satisfied: matplotlib>=2.1.2 in c:\\users\\sleung225\\anaconda3\\lib\\site-packages (from seaborn) (3.2.2)\n",
      "Requirement already satisfied: scipy>=1.0.1 in c:\\users\\sleung225\\anaconda3\\lib\\site-packages (from seaborn) (1.5.0)\n",
      "Requirement already satisfied: numpy>=1.13.3 in c:\\users\\sleung225\\anaconda3\\lib\\site-packages (from seaborn) (1.18.5)\n",
      "Requirement already satisfied: pandas>=0.22.0 in c:\\users\\sleung225\\anaconda3\\lib\\site-packages (from seaborn) (1.0.5)\n",
      "Requirement already satisfied: python-dateutil>=2.1 in c:\\users\\sleung225\\anaconda3\\lib\\site-packages (from matplotlib>=2.1.2->seaborn) (2.8.1)\n",
      "Requirement already satisfied: pyparsing!=2.0.4,!=2.1.2,!=2.1.6,>=2.0.1 in c:\\users\\sleung225\\anaconda3\\lib\\site-packages (from matplotlib>=2.1.2->seaborn) (2.4.7)\n",
      "Requirement already satisfied: cycler>=0.10 in c:\\users\\sleung225\\anaconda3\\lib\\site-packages (from matplotlib>=2.1.2->seaborn) (0.10.0)\n",
      "Requirement already satisfied: kiwisolver>=1.0.1 in c:\\users\\sleung225\\anaconda3\\lib\\site-packages (from matplotlib>=2.1.2->seaborn) (1.2.0)\n",
      "Requirement already satisfied: pytz>=2017.2 in c:\\users\\sleung225\\anaconda3\\lib\\site-packages (from pandas>=0.22.0->seaborn) (2020.1)\n",
      "Requirement already satisfied: six>=1.5 in c:\\users\\sleung225\\anaconda3\\lib\\site-packages (from python-dateutil>=2.1->matplotlib>=2.1.2->seaborn) (1.15.0)\n",
      "Requirement already satisfied: matplotlib in c:\\users\\sleung225\\anaconda3\\lib\\site-packages (3.2.2)\n",
      "Requirement already satisfied: cycler>=0.10 in c:\\users\\sleung225\\anaconda3\\lib\\site-packages (from matplotlib) (0.10.0)\n",
      "Requirement already satisfied: python-dateutil>=2.1 in c:\\users\\sleung225\\anaconda3\\lib\\site-packages (from matplotlib) (2.8.1)\n",
      "Requirement already satisfied: numpy>=1.11 in c:\\users\\sleung225\\anaconda3\\lib\\site-packages (from matplotlib) (1.18.5)\n",
      "Requirement already satisfied: kiwisolver>=1.0.1 in c:\\users\\sleung225\\anaconda3\\lib\\site-packages (from matplotlib) (1.2.0)\n",
      "Requirement already satisfied: pyparsing!=2.0.4,!=2.1.2,!=2.1.6,>=2.0.1 in c:\\users\\sleung225\\anaconda3\\lib\\site-packages (from matplotlib) (2.4.7)\n",
      "Requirement already satisfied: six in c:\\users\\sleung225\\anaconda3\\lib\\site-packages (from cycler>=0.10->matplotlib) (1.15.0)\n",
      "Requirement already satisfied: pandas in c:\\users\\sleung225\\anaconda3\\lib\\site-packages (1.0.5)\n",
      "Requirement already satisfied: pytz>=2017.2 in c:\\users\\sleung225\\anaconda3\\lib\\site-packages (from pandas) (2020.1)\n",
      "Requirement already satisfied: numpy>=1.13.3 in c:\\users\\sleung225\\anaconda3\\lib\\site-packages (from pandas) (1.18.5)\n",
      "Requirement already satisfied: python-dateutil>=2.6.1 in c:\\users\\sleung225\\anaconda3\\lib\\site-packages (from pandas) (2.8.1)\n",
      "Requirement already satisfied: six>=1.5 in c:\\users\\sleung225\\anaconda3\\lib\\site-packages (from python-dateutil>=2.6.1->pandas) (1.15.0)\n",
      "Requirement already satisfied: xgboost in c:\\users\\sleung225\\anaconda3\\lib\\site-packages (1.2.1)\n",
      "Requirement already satisfied: numpy in c:\\users\\sleung225\\anaconda3\\lib\\site-packages (from xgboost) (1.18.5)\n",
      "Requirement already satisfied: scipy in c:\\users\\sleung225\\anaconda3\\lib\\site-packages (from xgboost) (1.5.0)\n"
     ]
    }
   ],
   "source": [
    "!pip install scikit-plot\n",
    "!pip install -U imbalanced-learn\n",
    "!pip install prince\n",
    "!pip install seaborn\n",
    "!pip install matplotlib\n",
    "!pip install pandas\n",
    "!pip install xgboost"
   ]
  },
  {
   "cell_type": "code",
   "execution_count": 2,
   "metadata": {},
   "outputs": [],
   "source": [
    "# Importing libraries\n",
    "import pandas as pd\n",
    "import numpy as np\n",
    "\n",
    "import scikitplot as skplt\n",
    "import prince # for multiple correspondence analysis\n",
    "%matplotlib inline\n",
    "\n",
    "from sklearn.feature_selection import SelectKBest, chi2 # for chi-squared feature selection\n",
    "from sklearn.preprocessing import LabelEncoder, OrdinalEncoder\n",
    "from sklearn.preprocessing import MinMaxScaler\n",
    "from sklearn.model_selection import train_test_split\n",
    "from sklearn.linear_model import LogisticRegression\n",
    "from sklearn.metrics import classification_report  \n",
    "from sklearn.metrics import confusion_matrix  \n",
    "from sklearn.metrics import accuracy_score\n",
    "from sklearn.metrics import roc_auc_score\n",
    "from sklearn.preprocessing import StandardScaler, LabelEncoder\n",
    "from sklearn.model_selection import train_test_split\n",
    "from sklearn.model_selection import cross_val_score\n",
    "from sklearn.model_selection import StratifiedKFold\n",
    "from sklearn.model_selection import GridSearchCV\n",
    "from sklearn.pipeline import make_pipeline\n",
    "from sklearn.ensemble import RandomForestClassifier\n",
    "from sklearn.svm import SVC\n",
    "from sklearn.tree import DecisionTreeClassifier\n",
    "from xgboost import XGBClassifier\n",
    "\n",
    "from imblearn.under_sampling import RandomUnderSampler #balance data\n",
    "import seaborn as sns\n",
    "import matplotlib.pyplot as plt"
   ]
  },
  {
   "cell_type": "markdown",
   "metadata": {},
   "source": [
    "<h2>Exploratory Data Analysis</h2>\n",
    "\n",
    "<b>Create a dataframe and evaluate the necessary columns for analysis.</b>\n",
    "<br>Creates churn1 dataframe.</br>"
   ]
  },
  {
   "cell_type": "code",
   "execution_count": 3,
   "metadata": {},
   "outputs": [
    {
     "name": "stdout",
     "output_type": "stream",
     "text": [
      "(7043, 21)\n",
      "The data set contains: 7043 rows and 21 columns\n"
     ]
    }
   ],
   "source": [
    "# Import data and review the size of the dataset\n",
    "churn1 = pd.read_excel('path_here') #original dataframe that does not have any changes\n",
    "print(churn1.shape)\n",
    "print(\"The data set contains: {} rows and {} columns\".format(churn1.shape[0], churn1.shape[1]))"
   ]
  },
  {
   "cell_type": "markdown",
   "metadata": {},
   "source": [
    "<h3>Data Dictionary</h3>\n",
    "<br></br>\n",
    "<li>customerID - Customer unique identifier</li>\n",
    "<li>gender - Customer gender - ['Female' 'Male']</li>\n",
    "<li>SeniorCitizen - Elderly or retired person, a senior citizen is someone who has at least attained the age of 60 or 65 years</li>\n",
    "<li>Partner - - ['No' 'Yes']</li>\n",
    "<li>Dependents - If customer has dependents - ['No' 'Yes']</li>\n",
    "<li>Tenure - Customer lifespan (in months)</li>\n",
    "<li>PhoneService - - ['No' 'Yes']</li>\n",
    "<li>MultipleLines - - ['No' 'No phone service' 'Yes']</li>\n",
    "<li>InternetService - - ['No' 'No internet service' 'Yes']</li>\n",
    "<li>OnlineSecurity - - ['No' 'No internet service' 'Yes']</li>\n",
    "<li>OnlineBackup - - ['No' 'No internet service' 'Yes']</li>\n",
    "<li>DeviceProtection - - ['No' 'No internet service' 'Yes']</li>\n",
    "<li>TechSupport - - ['No' 'No internet service' 'Yes']</li>\n",
    "<li>StreamingTV - - ['No' 'No internet service' 'Yes']</li>\n",
    "<li>StreamingMovies - - ['No' 'No internet service' 'Yes']</li>\n",
    "<li>Contract - Type of contract - ['Month-to-month' 'One year' 'Two year']</li>\n",
    "<li>PaperlessBilling - - ['No' 'Yes']</li>\n",
    "<li>PaymentMethod - payment method - ['Bank transfer (automatic)', 'Credit card (automatic)', 'Electronic check (check)', 'Mailed check (check)']</li>\n",
    "<li>MonthlyCharges - Monthly Recurring Charges</li>\n",
    "<li>TotalCharges - Life time value</li>\n",
    "<b><li>Churn - Churn value, the target variable - ['No' 'Yes']</li></b>"
   ]
  },
  {
   "cell_type": "markdown",
   "metadata": {},
   "source": [
    "<b>Explore the data types in this data set.</b>"
   ]
  },
  {
   "cell_type": "code",
   "execution_count": 4,
   "metadata": {
    "scrolled": true
   },
   "outputs": [
    {
     "name": "stdout",
     "output_type": "stream",
     "text": [
      "<class 'pandas.core.frame.DataFrame'>\n",
      "RangeIndex: 7043 entries, 0 to 7042\n",
      "Data columns (total 21 columns):\n",
      " #   Column            Non-Null Count  Dtype  \n",
      "---  ------            --------------  -----  \n",
      " 0   customerID        7043 non-null   object \n",
      " 1   gender            7043 non-null   object \n",
      " 2   SeniorCitizen     7043 non-null   int64  \n",
      " 3   Partner           7043 non-null   object \n",
      " 4   Dependents        7043 non-null   object \n",
      " 5   tenure            7043 non-null   int64  \n",
      " 6   PhoneService      7043 non-null   object \n",
      " 7   MultipleLines     7043 non-null   object \n",
      " 8   InternetService   7043 non-null   object \n",
      " 9   OnlineSecurity    7043 non-null   object \n",
      " 10  OnlineBackup      7043 non-null   object \n",
      " 11  DeviceProtection  7043 non-null   object \n",
      " 12  TechSupport       7043 non-null   object \n",
      " 13  StreamingTV       7043 non-null   object \n",
      " 14  StreamingMovies   7043 non-null   object \n",
      " 15  Contract          7043 non-null   object \n",
      " 16  PaperlessBilling  7043 non-null   object \n",
      " 17  PaymentMethod     7043 non-null   object \n",
      " 18  MonthlyCharges    7043 non-null   float64\n",
      " 19  TotalCharges      7043 non-null   object \n",
      " 20  Churn             7043 non-null   object \n",
      "dtypes: float64(1), int64(2), object(18)\n",
      "memory usage: 1.1+ MB\n"
     ]
    }
   ],
   "source": [
    "churn1.info() # Obtain features of the dataset"
   ]
  },
  {
   "cell_type": "code",
   "execution_count": 5,
   "metadata": {},
   "outputs": [
    {
     "name": "stdout",
     "output_type": "stream",
     "text": [
      "Number of categorical features : 18\n",
      "Number of numerical features : 3\n"
     ]
    }
   ],
   "source": [
    "churn1.dtypes # data types of dataset columns\n",
    "print(\"Number of categorical features : {}\".format(len(churn1.select_dtypes(include=['object']).columns)))\n",
    "print(\"Number of numerical features : {}\".format(len(churn1.select_dtypes(include=['int64', 'float64']).columns)))"
   ]
  },
  {
   "cell_type": "markdown",
   "metadata": {},
   "source": [
    "<b>Check for null values in data and replace, if necessary.</b>"
   ]
  },
  {
   "cell_type": "code",
   "execution_count": 6,
   "metadata": {},
   "outputs": [
    {
     "name": "stdout",
     "output_type": "stream",
     "text": [
      "Missing values (per feature): \n",
      "customerID          0\n",
      "gender              0\n",
      "SeniorCitizen       0\n",
      "Partner             0\n",
      "Dependents          0\n",
      "tenure              0\n",
      "PhoneService        0\n",
      "MultipleLines       0\n",
      "InternetService     0\n",
      "OnlineSecurity      0\n",
      "OnlineBackup        0\n",
      "DeviceProtection    0\n",
      "TechSupport         0\n",
      "StreamingTV         0\n",
      "StreamingMovies     0\n",
      "Contract            0\n",
      "PaperlessBilling    0\n",
      "PaymentMethod       0\n",
      "MonthlyCharges      0\n",
      "TotalCharges        0\n",
      "Churn               0\n",
      "dtype: int64\n",
      "\n"
     ]
    }
   ],
   "source": [
    "# print missing values\n",
    "print(\"Missing values (per feature): \\n{}\\n\".format(churn1.isnull().sum()))"
   ]
  },
  {
   "cell_type": "markdown",
   "metadata": {},
   "source": [
    "<b>Review the unique data values of each column.</b>"
   ]
  },
  {
   "cell_type": "code",
   "execution_count": 7,
   "metadata": {},
   "outputs": [
    {
     "data": {
      "text/plain": [
       "customerID          7043\n",
       "gender                 2\n",
       "SeniorCitizen          2\n",
       "Partner                2\n",
       "Dependents             2\n",
       "tenure                73\n",
       "PhoneService           2\n",
       "MultipleLines          3\n",
       "InternetService        3\n",
       "OnlineSecurity         3\n",
       "OnlineBackup           3\n",
       "DeviceProtection       3\n",
       "TechSupport            3\n",
       "StreamingTV            3\n",
       "StreamingMovies        3\n",
       "Contract               3\n",
       "PaperlessBilling       2\n",
       "PaymentMethod          4\n",
       "MonthlyCharges      1585\n",
       "TotalCharges        6531\n",
       "Churn                  2\n",
       "dtype: int64"
      ]
     },
     "execution_count": 7,
     "metadata": {},
     "output_type": "execute_result"
    }
   ],
   "source": [
    "churn1.nunique() # Determine unique data values of the columns"
   ]
  },
  {
   "cell_type": "markdown",
   "metadata": {},
   "source": [
    "<b>Drop redunant columns.</b>"
   ]
  },
  {
   "cell_type": "code",
   "execution_count": 8,
   "metadata": {
    "scrolled": true
   },
   "outputs": [
    {
     "data": {
      "text/html": [
       "<div>\n",
       "<style scoped>\n",
       "    .dataframe tbody tr th:only-of-type {\n",
       "        vertical-align: middle;\n",
       "    }\n",
       "\n",
       "    .dataframe tbody tr th {\n",
       "        vertical-align: top;\n",
       "    }\n",
       "\n",
       "    .dataframe thead th {\n",
       "        text-align: right;\n",
       "    }\n",
       "</style>\n",
       "<table border=\"1\" class=\"dataframe\">\n",
       "  <thead>\n",
       "    <tr style=\"text-align: right;\">\n",
       "      <th></th>\n",
       "      <th>gender</th>\n",
       "      <th>SeniorCitizen</th>\n",
       "      <th>Partner</th>\n",
       "      <th>Dependents</th>\n",
       "      <th>tenure</th>\n",
       "      <th>PhoneService</th>\n",
       "      <th>MultipleLines</th>\n",
       "      <th>InternetService</th>\n",
       "      <th>OnlineSecurity</th>\n",
       "      <th>OnlineBackup</th>\n",
       "      <th>DeviceProtection</th>\n",
       "      <th>TechSupport</th>\n",
       "      <th>StreamingTV</th>\n",
       "      <th>StreamingMovies</th>\n",
       "      <th>Contract</th>\n",
       "      <th>PaperlessBilling</th>\n",
       "      <th>PaymentMethod</th>\n",
       "      <th>MonthlyCharges</th>\n",
       "      <th>Churn</th>\n",
       "    </tr>\n",
       "  </thead>\n",
       "  <tbody>\n",
       "    <tr>\n",
       "      <th>0</th>\n",
       "      <td>Female</td>\n",
       "      <td>0</td>\n",
       "      <td>Yes</td>\n",
       "      <td>No</td>\n",
       "      <td>1</td>\n",
       "      <td>No</td>\n",
       "      <td>No phone service</td>\n",
       "      <td>DSL</td>\n",
       "      <td>No</td>\n",
       "      <td>Yes</td>\n",
       "      <td>No</td>\n",
       "      <td>No</td>\n",
       "      <td>No</td>\n",
       "      <td>No</td>\n",
       "      <td>Month-to-month</td>\n",
       "      <td>Yes</td>\n",
       "      <td>Electronic check</td>\n",
       "      <td>29.85</td>\n",
       "      <td>No</td>\n",
       "    </tr>\n",
       "    <tr>\n",
       "      <th>1</th>\n",
       "      <td>Male</td>\n",
       "      <td>0</td>\n",
       "      <td>No</td>\n",
       "      <td>No</td>\n",
       "      <td>34</td>\n",
       "      <td>Yes</td>\n",
       "      <td>No</td>\n",
       "      <td>DSL</td>\n",
       "      <td>Yes</td>\n",
       "      <td>No</td>\n",
       "      <td>Yes</td>\n",
       "      <td>No</td>\n",
       "      <td>No</td>\n",
       "      <td>No</td>\n",
       "      <td>One year</td>\n",
       "      <td>No</td>\n",
       "      <td>Mailed check</td>\n",
       "      <td>56.95</td>\n",
       "      <td>No</td>\n",
       "    </tr>\n",
       "    <tr>\n",
       "      <th>2</th>\n",
       "      <td>Male</td>\n",
       "      <td>0</td>\n",
       "      <td>No</td>\n",
       "      <td>No</td>\n",
       "      <td>2</td>\n",
       "      <td>Yes</td>\n",
       "      <td>No</td>\n",
       "      <td>DSL</td>\n",
       "      <td>Yes</td>\n",
       "      <td>Yes</td>\n",
       "      <td>No</td>\n",
       "      <td>No</td>\n",
       "      <td>No</td>\n",
       "      <td>No</td>\n",
       "      <td>Month-to-month</td>\n",
       "      <td>Yes</td>\n",
       "      <td>Mailed check</td>\n",
       "      <td>53.85</td>\n",
       "      <td>Yes</td>\n",
       "    </tr>\n",
       "    <tr>\n",
       "      <th>3</th>\n",
       "      <td>Male</td>\n",
       "      <td>0</td>\n",
       "      <td>No</td>\n",
       "      <td>No</td>\n",
       "      <td>45</td>\n",
       "      <td>No</td>\n",
       "      <td>No phone service</td>\n",
       "      <td>DSL</td>\n",
       "      <td>Yes</td>\n",
       "      <td>No</td>\n",
       "      <td>Yes</td>\n",
       "      <td>Yes</td>\n",
       "      <td>No</td>\n",
       "      <td>No</td>\n",
       "      <td>One year</td>\n",
       "      <td>No</td>\n",
       "      <td>Bank transfer (automatic)</td>\n",
       "      <td>42.30</td>\n",
       "      <td>No</td>\n",
       "    </tr>\n",
       "    <tr>\n",
       "      <th>4</th>\n",
       "      <td>Female</td>\n",
       "      <td>0</td>\n",
       "      <td>No</td>\n",
       "      <td>No</td>\n",
       "      <td>2</td>\n",
       "      <td>Yes</td>\n",
       "      <td>No</td>\n",
       "      <td>Fiber optic</td>\n",
       "      <td>No</td>\n",
       "      <td>No</td>\n",
       "      <td>No</td>\n",
       "      <td>No</td>\n",
       "      <td>No</td>\n",
       "      <td>No</td>\n",
       "      <td>Month-to-month</td>\n",
       "      <td>Yes</td>\n",
       "      <td>Electronic check</td>\n",
       "      <td>70.70</td>\n",
       "      <td>Yes</td>\n",
       "    </tr>\n",
       "  </tbody>\n",
       "</table>\n",
       "</div>"
      ],
      "text/plain": [
       "   gender  SeniorCitizen Partner Dependents  tenure PhoneService  \\\n",
       "0  Female              0     Yes         No       1           No   \n",
       "1    Male              0      No         No      34          Yes   \n",
       "2    Male              0      No         No       2          Yes   \n",
       "3    Male              0      No         No      45           No   \n",
       "4  Female              0      No         No       2          Yes   \n",
       "\n",
       "      MultipleLines InternetService OnlineSecurity OnlineBackup  \\\n",
       "0  No phone service             DSL             No          Yes   \n",
       "1                No             DSL            Yes           No   \n",
       "2                No             DSL            Yes          Yes   \n",
       "3  No phone service             DSL            Yes           No   \n",
       "4                No     Fiber optic             No           No   \n",
       "\n",
       "  DeviceProtection TechSupport StreamingTV StreamingMovies        Contract  \\\n",
       "0               No          No          No              No  Month-to-month   \n",
       "1              Yes          No          No              No        One year   \n",
       "2               No          No          No              No  Month-to-month   \n",
       "3              Yes         Yes          No              No        One year   \n",
       "4               No          No          No              No  Month-to-month   \n",
       "\n",
       "  PaperlessBilling              PaymentMethod  MonthlyCharges Churn  \n",
       "0              Yes           Electronic check           29.85    No  \n",
       "1               No               Mailed check           56.95    No  \n",
       "2              Yes               Mailed check           53.85   Yes  \n",
       "3               No  Bank transfer (automatic)           42.30    No  \n",
       "4              Yes           Electronic check           70.70   Yes  "
      ]
     },
     "execution_count": 8,
     "metadata": {},
     "output_type": "execute_result"
    }
   ],
   "source": [
    "# Drop customerID and TotalCharges because it does not serve a value to the analysis.\n",
    "churn1.drop(['customerID','TotalCharges'], axis=1, inplace=True)\n",
    "churn1.head()"
   ]
  },
  {
   "cell_type": "code",
   "execution_count": 9,
   "metadata": {},
   "outputs": [
    {
     "name": "stdout",
     "output_type": "stream",
     "text": [
      "Number of categorical features : 16\n",
      "Number of numerical features : 3\n"
     ]
    }
   ],
   "source": [
    "print(\"Number of categorical features : {}\".format(len(churn1.select_dtypes(include=['object']).columns)))\n",
    "print(\"Number of numerical features : {}\".format(len(churn1.select_dtypes(include=['int64', 'float64']).columns)))"
   ]
  },
  {
   "cell_type": "markdown",
   "metadata": {},
   "source": [
    "<h2>Data Preparation</h2>\n",
    "<br>Uses churn1 dataframe.</br> \n",
    "<br>Creates churn2 dataframe.</br>"
   ]
  },
  {
   "cell_type": "markdown",
   "metadata": {},
   "source": [
    "<h3><b>Test for collinearity</b></h3>"
   ]
  },
  {
   "cell_type": "markdown",
   "metadata": {},
   "source": [
    "<b>Recode columns to replace Yes/No to 1/0.</b>"
   ]
  },
  {
   "cell_type": "code",
   "execution_count": 10,
   "metadata": {
    "scrolled": true
   },
   "outputs": [
    {
     "data": {
      "text/html": [
       "<div>\n",
       "<style scoped>\n",
       "    .dataframe tbody tr th:only-of-type {\n",
       "        vertical-align: middle;\n",
       "    }\n",
       "\n",
       "    .dataframe tbody tr th {\n",
       "        vertical-align: top;\n",
       "    }\n",
       "\n",
       "    .dataframe thead th {\n",
       "        text-align: right;\n",
       "    }\n",
       "</style>\n",
       "<table border=\"1\" class=\"dataframe\">\n",
       "  <thead>\n",
       "    <tr style=\"text-align: right;\">\n",
       "      <th></th>\n",
       "      <th>gender</th>\n",
       "      <th>SeniorCitizen</th>\n",
       "      <th>Partner</th>\n",
       "      <th>Dependents</th>\n",
       "      <th>tenure</th>\n",
       "      <th>PhoneService</th>\n",
       "      <th>MultipleLines</th>\n",
       "      <th>InternetService</th>\n",
       "      <th>OnlineSecurity</th>\n",
       "      <th>OnlineBackup</th>\n",
       "      <th>DeviceProtection</th>\n",
       "      <th>TechSupport</th>\n",
       "      <th>StreamingTV</th>\n",
       "      <th>StreamingMovies</th>\n",
       "      <th>Contract</th>\n",
       "      <th>PaperlessBilling</th>\n",
       "      <th>PaymentMethod</th>\n",
       "      <th>MonthlyCharges</th>\n",
       "      <th>Churn</th>\n",
       "    </tr>\n",
       "  </thead>\n",
       "  <tbody>\n",
       "    <tr>\n",
       "      <th>0</th>\n",
       "      <td>Female</td>\n",
       "      <td>0</td>\n",
       "      <td>1</td>\n",
       "      <td>0</td>\n",
       "      <td>1</td>\n",
       "      <td>0</td>\n",
       "      <td>0</td>\n",
       "      <td>DSL</td>\n",
       "      <td>0</td>\n",
       "      <td>1</td>\n",
       "      <td>0</td>\n",
       "      <td>0</td>\n",
       "      <td>0</td>\n",
       "      <td>0</td>\n",
       "      <td>Month-to-month</td>\n",
       "      <td>1</td>\n",
       "      <td>Electronic check</td>\n",
       "      <td>29.85</td>\n",
       "      <td>0</td>\n",
       "    </tr>\n",
       "    <tr>\n",
       "      <th>1</th>\n",
       "      <td>Male</td>\n",
       "      <td>0</td>\n",
       "      <td>0</td>\n",
       "      <td>0</td>\n",
       "      <td>34</td>\n",
       "      <td>1</td>\n",
       "      <td>0</td>\n",
       "      <td>DSL</td>\n",
       "      <td>1</td>\n",
       "      <td>0</td>\n",
       "      <td>1</td>\n",
       "      <td>0</td>\n",
       "      <td>0</td>\n",
       "      <td>0</td>\n",
       "      <td>One year</td>\n",
       "      <td>0</td>\n",
       "      <td>Mailed check</td>\n",
       "      <td>56.95</td>\n",
       "      <td>0</td>\n",
       "    </tr>\n",
       "    <tr>\n",
       "      <th>2</th>\n",
       "      <td>Male</td>\n",
       "      <td>0</td>\n",
       "      <td>0</td>\n",
       "      <td>0</td>\n",
       "      <td>2</td>\n",
       "      <td>1</td>\n",
       "      <td>0</td>\n",
       "      <td>DSL</td>\n",
       "      <td>1</td>\n",
       "      <td>1</td>\n",
       "      <td>0</td>\n",
       "      <td>0</td>\n",
       "      <td>0</td>\n",
       "      <td>0</td>\n",
       "      <td>Month-to-month</td>\n",
       "      <td>1</td>\n",
       "      <td>Mailed check</td>\n",
       "      <td>53.85</td>\n",
       "      <td>1</td>\n",
       "    </tr>\n",
       "    <tr>\n",
       "      <th>3</th>\n",
       "      <td>Male</td>\n",
       "      <td>0</td>\n",
       "      <td>0</td>\n",
       "      <td>0</td>\n",
       "      <td>45</td>\n",
       "      <td>0</td>\n",
       "      <td>0</td>\n",
       "      <td>DSL</td>\n",
       "      <td>1</td>\n",
       "      <td>0</td>\n",
       "      <td>1</td>\n",
       "      <td>1</td>\n",
       "      <td>0</td>\n",
       "      <td>0</td>\n",
       "      <td>One year</td>\n",
       "      <td>0</td>\n",
       "      <td>Bank transfer (automatic)</td>\n",
       "      <td>42.30</td>\n",
       "      <td>0</td>\n",
       "    </tr>\n",
       "    <tr>\n",
       "      <th>4</th>\n",
       "      <td>Female</td>\n",
       "      <td>0</td>\n",
       "      <td>0</td>\n",
       "      <td>0</td>\n",
       "      <td>2</td>\n",
       "      <td>1</td>\n",
       "      <td>0</td>\n",
       "      <td>Fiber optic</td>\n",
       "      <td>0</td>\n",
       "      <td>0</td>\n",
       "      <td>0</td>\n",
       "      <td>0</td>\n",
       "      <td>0</td>\n",
       "      <td>0</td>\n",
       "      <td>Month-to-month</td>\n",
       "      <td>1</td>\n",
       "      <td>Electronic check</td>\n",
       "      <td>70.70</td>\n",
       "      <td>1</td>\n",
       "    </tr>\n",
       "  </tbody>\n",
       "</table>\n",
       "</div>"
      ],
      "text/plain": [
       "   gender  SeniorCitizen  Partner  Dependents  tenure  PhoneService  \\\n",
       "0  Female              0        1           0       1             0   \n",
       "1    Male              0        0           0      34             1   \n",
       "2    Male              0        0           0       2             1   \n",
       "3    Male              0        0           0      45             0   \n",
       "4  Female              0        0           0       2             1   \n",
       "\n",
       "   MultipleLines InternetService OnlineSecurity OnlineBackup DeviceProtection  \\\n",
       "0              0             DSL              0            1                0   \n",
       "1              0             DSL              1            0                1   \n",
       "2              0             DSL              1            1                0   \n",
       "3              0             DSL              1            0                1   \n",
       "4              0     Fiber optic              0            0                0   \n",
       "\n",
       "  TechSupport StreamingTV StreamingMovies        Contract  PaperlessBilling  \\\n",
       "0           0           0               0  Month-to-month                 1   \n",
       "1           0           0               0        One year                 0   \n",
       "2           0           0               0  Month-to-month                 1   \n",
       "3           1           0               0        One year                 0   \n",
       "4           0           0               0  Month-to-month                 1   \n",
       "\n",
       "               PaymentMethod  MonthlyCharges  Churn  \n",
       "0           Electronic check           29.85      0  \n",
       "1               Mailed check           56.95      0  \n",
       "2               Mailed check           53.85      1  \n",
       "3  Bank transfer (automatic)           42.30      0  \n",
       "4           Electronic check           70.70      1  "
      ]
     },
     "execution_count": 10,
     "metadata": {},
     "output_type": "execute_result"
    }
   ],
   "source": [
    "columns_to_convert = ['Partner', \n",
    "                      'Dependents',\n",
    "                      'SeniorCitizen',\n",
    "                      'gender',\n",
    "                      'tenure',\n",
    "                      'PhoneService',\n",
    "                      'MultipleLines',\n",
    "                      'InternetService',\n",
    "                      'PaperlessBilling',\n",
    "                      'PaymentMethod',\n",
    "                      'MonthlyCharges',\n",
    "                      'OnlineSecurity',\n",
    "                      'OnlineBackup',\n",
    "                      'DeviceProtection',\n",
    "                      'TechSupport',\n",
    "                      'StreamingTV',\n",
    "                      'StreamingMovies',\n",
    "                      'Contract',\n",
    "                      'Churn']\n",
    "\n",
    "for item in columns_to_convert:\n",
    "    churn1[item].replace(to_replace='Yes', value=1, inplace=True)\n",
    "    churn1[item].replace(to_replace='No',  value=0, inplace=True)\n",
    "    churn1[item].replace(to_replace='No phone service',  value=0, inplace=True)\n",
    "churn1.head()"
   ]
  },
  {
   "cell_type": "markdown",
   "metadata": {},
   "source": [
    "<b>Balance the number of churned customers with the number of customers who did not churn.</b>"
   ]
  },
  {
   "cell_type": "code",
   "execution_count": 11,
   "metadata": {},
   "outputs": [
    {
     "name": "stdout",
     "output_type": "stream",
     "text": [
      "Number of churners 1869\n",
      "Number of non-churners 1869\n"
     ]
    }
   ],
   "source": [
    "churners_number = len(churn1[churn1['Churn'] == 1])\n",
    "print(\"Number of churners\", churners_number)\n",
    "\n",
    "churners = (churn1[churn1['Churn'] == 1])\n",
    "\n",
    "non_churners = churn1[churn1['Churn'] == 0].sample(n=churners_number)\n",
    "print(\"Number of non-churners\", len(non_churners))\n",
    "churn2 = churners.append(non_churners)"
   ]
  },
  {
   "cell_type": "markdown",
   "metadata": {},
   "source": [
    "<b>Create heatmap to visualize the linear relationships among each variable.</b>"
   ]
  },
  {
   "cell_type": "code",
   "execution_count": 12,
   "metadata": {},
   "outputs": [
    {
     "data": {
      "image/png": "[encoded data removed]",
      "text/plain": [
       "<Figure size 1440x720 with 2 Axes>"
      ]
     },
     "metadata": {
      "needs_background": "light"
     },
     "output_type": "display_data"
    }
   ],
   "source": [
    "def show_correlations(dataframe, show_chart = True):\n",
    "    fig = plt.figure(figsize = (20,10))\n",
    "    corr = dataframe.corr()\n",
    "    if show_chart == True:\n",
    "        sns.heatmap(corr, \n",
    "                    xticklabels=corr.columns.values,\n",
    "                    yticklabels=corr.columns.values,\n",
    "                    annot=True)\n",
    "    return corr\n",
    "\n",
    "correlation_df = show_correlations(churn2,show_chart=True)"
   ]
  },
  {
   "cell_type": "markdown",
   "metadata": {},
   "source": [
    "<h3><b>Multiple Correspondence Analysis (MCA)</b></h3>\n",
    "<br><b>Multiple Correspondence Analysis:</b> used to determine how close input categorical features are to the target variable customer churn and to each other.</br>\n",
    "<br>Uses churn1 dataframe.</br> \n",
    "<br>Creates churn3 dataframe.</br>"
   ]
  },
  {
   "cell_type": "code",
   "execution_count": 13,
   "metadata": {
    "scrolled": true
   },
   "outputs": [
    {
     "data": {
      "text/html": [
       "<div>\n",
       "<style scoped>\n",
       "    .dataframe tbody tr th:only-of-type {\n",
       "        vertical-align: middle;\n",
       "    }\n",
       "\n",
       "    .dataframe tbody tr th {\n",
       "        vertical-align: top;\n",
       "    }\n",
       "\n",
       "    .dataframe thead th {\n",
       "        text-align: right;\n",
       "    }\n",
       "</style>\n",
       "<table border=\"1\" class=\"dataframe\">\n",
       "  <thead>\n",
       "    <tr style=\"text-align: right;\">\n",
       "      <th></th>\n",
       "      <th>gender</th>\n",
       "      <th>SeniorCitizen</th>\n",
       "      <th>Partner</th>\n",
       "      <th>Dependents</th>\n",
       "      <th>tenure</th>\n",
       "      <th>PhoneService</th>\n",
       "      <th>MultipleLines</th>\n",
       "      <th>InternetService</th>\n",
       "      <th>OnlineSecurity</th>\n",
       "      <th>OnlineBackup</th>\n",
       "      <th>DeviceProtection</th>\n",
       "      <th>TechSupport</th>\n",
       "      <th>StreamingTV</th>\n",
       "      <th>StreamingMovies</th>\n",
       "      <th>Contract</th>\n",
       "      <th>PaperlessBilling</th>\n",
       "      <th>PaymentMethod</th>\n",
       "      <th>MonthlyCharges</th>\n",
       "      <th>Churn</th>\n",
       "    </tr>\n",
       "  </thead>\n",
       "  <tbody>\n",
       "    <tr>\n",
       "      <th>0</th>\n",
       "      <td>Female</td>\n",
       "      <td>0</td>\n",
       "      <td>1</td>\n",
       "      <td>0</td>\n",
       "      <td>1</td>\n",
       "      <td>0</td>\n",
       "      <td>0</td>\n",
       "      <td>DSL</td>\n",
       "      <td>0</td>\n",
       "      <td>1</td>\n",
       "      <td>0</td>\n",
       "      <td>0</td>\n",
       "      <td>0</td>\n",
       "      <td>0</td>\n",
       "      <td>Month-to-month</td>\n",
       "      <td>1</td>\n",
       "      <td>Electronic check</td>\n",
       "      <td>29.85</td>\n",
       "      <td>0</td>\n",
       "    </tr>\n",
       "    <tr>\n",
       "      <th>1</th>\n",
       "      <td>Male</td>\n",
       "      <td>0</td>\n",
       "      <td>0</td>\n",
       "      <td>0</td>\n",
       "      <td>34</td>\n",
       "      <td>1</td>\n",
       "      <td>0</td>\n",
       "      <td>DSL</td>\n",
       "      <td>1</td>\n",
       "      <td>0</td>\n",
       "      <td>1</td>\n",
       "      <td>0</td>\n",
       "      <td>0</td>\n",
       "      <td>0</td>\n",
       "      <td>One year</td>\n",
       "      <td>0</td>\n",
       "      <td>Mailed check</td>\n",
       "      <td>56.95</td>\n",
       "      <td>0</td>\n",
       "    </tr>\n",
       "    <tr>\n",
       "      <th>2</th>\n",
       "      <td>Male</td>\n",
       "      <td>0</td>\n",
       "      <td>0</td>\n",
       "      <td>0</td>\n",
       "      <td>2</td>\n",
       "      <td>1</td>\n",
       "      <td>0</td>\n",
       "      <td>DSL</td>\n",
       "      <td>1</td>\n",
       "      <td>1</td>\n",
       "      <td>0</td>\n",
       "      <td>0</td>\n",
       "      <td>0</td>\n",
       "      <td>0</td>\n",
       "      <td>Month-to-month</td>\n",
       "      <td>1</td>\n",
       "      <td>Mailed check</td>\n",
       "      <td>53.85</td>\n",
       "      <td>1</td>\n",
       "    </tr>\n",
       "    <tr>\n",
       "      <th>3</th>\n",
       "      <td>Male</td>\n",
       "      <td>0</td>\n",
       "      <td>0</td>\n",
       "      <td>0</td>\n",
       "      <td>45</td>\n",
       "      <td>0</td>\n",
       "      <td>0</td>\n",
       "      <td>DSL</td>\n",
       "      <td>1</td>\n",
       "      <td>0</td>\n",
       "      <td>1</td>\n",
       "      <td>1</td>\n",
       "      <td>0</td>\n",
       "      <td>0</td>\n",
       "      <td>One year</td>\n",
       "      <td>0</td>\n",
       "      <td>Bank transfer (automatic)</td>\n",
       "      <td>42.30</td>\n",
       "      <td>0</td>\n",
       "    </tr>\n",
       "    <tr>\n",
       "      <th>4</th>\n",
       "      <td>Female</td>\n",
       "      <td>0</td>\n",
       "      <td>0</td>\n",
       "      <td>0</td>\n",
       "      <td>2</td>\n",
       "      <td>1</td>\n",
       "      <td>0</td>\n",
       "      <td>Fiber optic</td>\n",
       "      <td>0</td>\n",
       "      <td>0</td>\n",
       "      <td>0</td>\n",
       "      <td>0</td>\n",
       "      <td>0</td>\n",
       "      <td>0</td>\n",
       "      <td>Month-to-month</td>\n",
       "      <td>1</td>\n",
       "      <td>Electronic check</td>\n",
       "      <td>70.70</td>\n",
       "      <td>1</td>\n",
       "    </tr>\n",
       "  </tbody>\n",
       "</table>\n",
       "</div>"
      ],
      "text/plain": [
       "   gender  SeniorCitizen  Partner  Dependents  tenure  PhoneService  \\\n",
       "0  Female              0        1           0       1             0   \n",
       "1    Male              0        0           0      34             1   \n",
       "2    Male              0        0           0       2             1   \n",
       "3    Male              0        0           0      45             0   \n",
       "4  Female              0        0           0       2             1   \n",
       "\n",
       "   MultipleLines InternetService OnlineSecurity OnlineBackup DeviceProtection  \\\n",
       "0              0             DSL              0            1                0   \n",
       "1              0             DSL              1            0                1   \n",
       "2              0             DSL              1            1                0   \n",
       "3              0             DSL              1            0                1   \n",
       "4              0     Fiber optic              0            0                0   \n",
       "\n",
       "  TechSupport StreamingTV StreamingMovies        Contract  PaperlessBilling  \\\n",
       "0           0           0               0  Month-to-month                 1   \n",
       "1           0           0               0        One year                 0   \n",
       "2           0           0               0  Month-to-month                 1   \n",
       "3           1           0               0        One year                 0   \n",
       "4           0           0               0  Month-to-month                 1   \n",
       "\n",
       "               PaymentMethod  MonthlyCharges  Churn  \n",
       "0           Electronic check           29.85      0  \n",
       "1               Mailed check           56.95      0  \n",
       "2               Mailed check           53.85      1  \n",
       "3  Bank transfer (automatic)           42.30      0  \n",
       "4           Electronic check           70.70      1  "
      ]
     },
     "execution_count": 13,
     "metadata": {},
     "output_type": "execute_result"
    }
   ],
   "source": [
    "churn1.head()"
   ]
  },
  {
   "cell_type": "markdown",
   "metadata": {},
   "source": [
    "<b>Recode any values in the dataframe from numeric to categorical.</b>"
   ]
  },
  {
   "cell_type": "code",
   "execution_count": 14,
   "metadata": {},
   "outputs": [
    {
     "data": {
      "text/plain": [
       "array(['No', 'Yes'], dtype=object)"
      ]
     },
     "execution_count": 14,
     "metadata": {},
     "output_type": "execute_result"
    }
   ],
   "source": [
    "# Recode target variable, Churn\n",
    "chur = {0 : 'No',\n",
    "        1 : 'Yes'}\n",
    "churn1['Churn'] = churn1['Churn'].map(chur)\n",
    "churn1['Churn'].unique()"
   ]
  },
  {
   "cell_type": "code",
   "execution_count": 15,
   "metadata": {},
   "outputs": [],
   "source": [
    "# Recode numeric to categorical\n",
    "senior = {0 : 'No',\n",
    "        1 : 'Yes'}\n",
    "\n",
    "churn1['SeniorCitizen'].replace(senior, inplace=True)\n",
    "\n",
    "def tenure(data):\n",
    "    if 0 < data  <= 24 :\n",
    "        return 'Short'\n",
    "    else:\n",
    "        return 'Long'\n",
    "\n",
    "churn1['tenure'] = churn1['tenure'].apply(tenure)\n",
    "\n",
    "def charges(data):\n",
    "    if 0 < data  <= 70 :\n",
    "        return 'LowCharge'\n",
    "    else:\n",
    "        return 'HighCharge'\n",
    "\n",
    "churn1['MonthlyCharges'] = churn1['MonthlyCharges'].apply(charges)\n",
    "recode = {'No phone service' : 'No',\n",
    "          'No internet service' : 'No',\n",
    "            'Fiber optic' : 'Fberoptic',\n",
    "            'Month-to-month' : 'MtM',\n",
    "            'Two year' : 'TwoYr',\n",
    "            'One year' : 'OneYr' ,\n",
    "            'Electronic check' : 'check',\n",
    "            'Mailed check' : 'check',\n",
    "            'Bank transfer (automatic)' : 'automatic',\n",
    "            'Credit card (automatic)' : 'automatic'\n",
    "            }\n",
    "\n",
    "churn1.replace(recode, inplace=True)"
   ]
  },
  {
   "cell_type": "code",
   "execution_count": 16,
   "metadata": {},
   "outputs": [
    {
     "data": {
      "text/html": [
       "<div>\n",
       "<style scoped>\n",
       "    .dataframe tbody tr th:only-of-type {\n",
       "        vertical-align: middle;\n",
       "    }\n",
       "\n",
       "    .dataframe tbody tr th {\n",
       "        vertical-align: top;\n",
       "    }\n",
       "\n",
       "    .dataframe thead th {\n",
       "        text-align: right;\n",
       "    }\n",
       "</style>\n",
       "<table border=\"1\" class=\"dataframe\">\n",
       "  <thead>\n",
       "    <tr style=\"text-align: right;\">\n",
       "      <th></th>\n",
       "      <th>gender</th>\n",
       "      <th>SeniorCitizen</th>\n",
       "      <th>Partner</th>\n",
       "      <th>Dependents</th>\n",
       "      <th>tenure</th>\n",
       "      <th>PhoneService</th>\n",
       "      <th>MultipleLines</th>\n",
       "      <th>InternetService</th>\n",
       "      <th>OnlineSecurity</th>\n",
       "      <th>OnlineBackup</th>\n",
       "      <th>DeviceProtection</th>\n",
       "      <th>TechSupport</th>\n",
       "      <th>StreamingTV</th>\n",
       "      <th>StreamingMovies</th>\n",
       "      <th>Contract</th>\n",
       "      <th>PaperlessBilling</th>\n",
       "      <th>PaymentMethod</th>\n",
       "      <th>MonthlyCharges</th>\n",
       "      <th>Churn</th>\n",
       "    </tr>\n",
       "  </thead>\n",
       "  <tbody>\n",
       "    <tr>\n",
       "      <th>0</th>\n",
       "      <td>Female</td>\n",
       "      <td>No</td>\n",
       "      <td>Yes</td>\n",
       "      <td>No</td>\n",
       "      <td>Short</td>\n",
       "      <td>No</td>\n",
       "      <td>No</td>\n",
       "      <td>DSL</td>\n",
       "      <td>No</td>\n",
       "      <td>Yes</td>\n",
       "      <td>No</td>\n",
       "      <td>No</td>\n",
       "      <td>No</td>\n",
       "      <td>No</td>\n",
       "      <td>MtM</td>\n",
       "      <td>Yes</td>\n",
       "      <td>check</td>\n",
       "      <td>LowCharge</td>\n",
       "      <td>No</td>\n",
       "    </tr>\n",
       "    <tr>\n",
       "      <th>1</th>\n",
       "      <td>Male</td>\n",
       "      <td>No</td>\n",
       "      <td>No</td>\n",
       "      <td>No</td>\n",
       "      <td>Long</td>\n",
       "      <td>Yes</td>\n",
       "      <td>No</td>\n",
       "      <td>DSL</td>\n",
       "      <td>Yes</td>\n",
       "      <td>No</td>\n",
       "      <td>Yes</td>\n",
       "      <td>No</td>\n",
       "      <td>No</td>\n",
       "      <td>No</td>\n",
       "      <td>OneYr</td>\n",
       "      <td>No</td>\n",
       "      <td>check</td>\n",
       "      <td>LowCharge</td>\n",
       "      <td>No</td>\n",
       "    </tr>\n",
       "    <tr>\n",
       "      <th>2</th>\n",
       "      <td>Male</td>\n",
       "      <td>No</td>\n",
       "      <td>No</td>\n",
       "      <td>No</td>\n",
       "      <td>Short</td>\n",
       "      <td>Yes</td>\n",
       "      <td>No</td>\n",
       "      <td>DSL</td>\n",
       "      <td>Yes</td>\n",
       "      <td>Yes</td>\n",
       "      <td>No</td>\n",
       "      <td>No</td>\n",
       "      <td>No</td>\n",
       "      <td>No</td>\n",
       "      <td>MtM</td>\n",
       "      <td>Yes</td>\n",
       "      <td>check</td>\n",
       "      <td>LowCharge</td>\n",
       "      <td>Yes</td>\n",
       "    </tr>\n",
       "    <tr>\n",
       "      <th>3</th>\n",
       "      <td>Male</td>\n",
       "      <td>No</td>\n",
       "      <td>No</td>\n",
       "      <td>No</td>\n",
       "      <td>Long</td>\n",
       "      <td>No</td>\n",
       "      <td>No</td>\n",
       "      <td>DSL</td>\n",
       "      <td>Yes</td>\n",
       "      <td>No</td>\n",
       "      <td>Yes</td>\n",
       "      <td>Yes</td>\n",
       "      <td>No</td>\n",
       "      <td>No</td>\n",
       "      <td>OneYr</td>\n",
       "      <td>No</td>\n",
       "      <td>automatic</td>\n",
       "      <td>LowCharge</td>\n",
       "      <td>No</td>\n",
       "    </tr>\n",
       "    <tr>\n",
       "      <th>4</th>\n",
       "      <td>Female</td>\n",
       "      <td>No</td>\n",
       "      <td>No</td>\n",
       "      <td>No</td>\n",
       "      <td>Short</td>\n",
       "      <td>Yes</td>\n",
       "      <td>No</td>\n",
       "      <td>Fberoptic</td>\n",
       "      <td>No</td>\n",
       "      <td>No</td>\n",
       "      <td>No</td>\n",
       "      <td>No</td>\n",
       "      <td>No</td>\n",
       "      <td>No</td>\n",
       "      <td>MtM</td>\n",
       "      <td>Yes</td>\n",
       "      <td>check</td>\n",
       "      <td>HighCharge</td>\n",
       "      <td>Yes</td>\n",
       "    </tr>\n",
       "  </tbody>\n",
       "</table>\n",
       "</div>"
      ],
      "text/plain": [
       "   gender SeniorCitizen Partner Dependents tenure PhoneService MultipleLines  \\\n",
       "0  Female            No     Yes         No  Short           No            No   \n",
       "1    Male            No      No         No   Long          Yes            No   \n",
       "2    Male            No      No         No  Short          Yes            No   \n",
       "3    Male            No      No         No   Long           No            No   \n",
       "4  Female            No      No         No  Short          Yes            No   \n",
       "\n",
       "  InternetService OnlineSecurity OnlineBackup DeviceProtection TechSupport  \\\n",
       "0             DSL             No          Yes               No          No   \n",
       "1             DSL            Yes           No              Yes          No   \n",
       "2             DSL            Yes          Yes               No          No   \n",
       "3             DSL            Yes           No              Yes         Yes   \n",
       "4       Fberoptic             No           No               No          No   \n",
       "\n",
       "  StreamingTV StreamingMovies Contract PaperlessBilling PaymentMethod  \\\n",
       "0          No              No      MtM              Yes         check   \n",
       "1          No              No    OneYr               No         check   \n",
       "2          No              No      MtM              Yes         check   \n",
       "3          No              No    OneYr               No     automatic   \n",
       "4          No              No      MtM              Yes         check   \n",
       "\n",
       "  MonthlyCharges Churn  \n",
       "0      LowCharge    No  \n",
       "1      LowCharge    No  \n",
       "2      LowCharge   Yes  \n",
       "3      LowCharge    No  \n",
       "4     HighCharge   Yes  "
      ]
     },
     "execution_count": 16,
     "metadata": {},
     "output_type": "execute_result"
    }
   ],
   "source": [
    "# Recode independent variables\n",
    "columns_to_convert = ['Partner', \n",
    "                      'Dependents',\n",
    "                      'gender',\n",
    "                      'PhoneService',\n",
    "                      'MultipleLines',\n",
    "                      'PaperlessBilling',\n",
    "                      'OnlineSecurity',\n",
    "                      'OnlineBackup',\n",
    "                      'DeviceProtection',\n",
    "                      'TechSupport',\n",
    "                      'StreamingTV',\n",
    "                      'StreamingMovies']\n",
    "\n",
    "for item in columns_to_convert:\n",
    "    churn1[item].replace(to_replace=1, value='Yes', inplace=True)\n",
    "    churn1[item].replace(to_replace=0,  value='No', inplace=True)\n",
    "churn1.head()"
   ]
  },
  {
   "cell_type": "markdown",
   "metadata": {},
   "source": [
    "<b>Create MCA Graph to indicate the variables relation to Churn.</b>"
   ]
  },
  {
   "cell_type": "code",
   "execution_count": 17,
   "metadata": {
    "scrolled": false
   },
   "outputs": [
    {
     "data": {
      "image/png": "[encoded data removed]",
      "text/plain": [
       "<Figure size 1440x720 with 1 Axes>"
      ]
     },
     "metadata": {
      "needs_background": "light"
     },
     "output_type": "display_data"
    }
   ],
   "source": [
    "mca = prince.MCA(\n",
    "        n_components=2,\n",
    "        n_iter=3,\n",
    "        copy=True,\n",
    "        check_input=True,\n",
    "        engine='auto',\n",
    "        random_state=42\n",
    "        )\n",
    "churn_mca = mca.fit(churn1)\n",
    "\n",
    "ax = churn_mca.plot_coordinates(\n",
    "        X=churn1,\n",
    "        ax=None,\n",
    "        figsize=(20, 10),\n",
    "        show_row_points=False,\n",
    "        row_points_size=0,\n",
    "        show_row_labels=False,\n",
    "        show_column_points=True,\n",
    "        column_points_size=30,\n",
    "        show_column_labels=True,\n",
    "        legend_n_cols=1\n",
    "               ).legend(loc='center left', bbox_to_anchor=(1, 0.5))\n",
    "\n",
    "ax.figure.savefig(\"mca.png\", dpi=600) # Saves graph to desktop"
   ]
  },
  {
   "cell_type": "markdown",
   "metadata": {},
   "source": [
    "<b>Create dummy variables for Chi-square test on categorical features</b>"
   ]
  },
  {
   "cell_type": "code",
   "execution_count": 18,
   "metadata": {},
   "outputs": [],
   "source": [
    "churn3 = pd.get_dummies(churn1, drop_first=True)"
   ]
  },
  {
   "cell_type": "code",
   "execution_count": 19,
   "metadata": {
    "scrolled": true
   },
   "outputs": [
    {
     "name": "stdout",
     "output_type": "stream",
     "text": [
      "(7043, 21)\n",
      "The data set contains: 7043 rows and 19 columns\n",
      "Features after get_dummies:\n",
      " ['gender', 'SeniorCitizen', 'Partner', 'Dependents', 'tenure', 'PhoneService', 'MultipleLines', 'InternetService', 'OnlineSecurity', 'OnlineBackup', 'DeviceProtection', 'TechSupport', 'StreamingTV', 'StreamingMovies', 'Contract', 'PaperlessBilling', 'PaymentMethod', 'MonthlyCharges', 'Churn']\n"
     ]
    }
   ],
   "source": [
    "print(churn3.shape)\n",
    "print(\"The data set contains: {} rows and {} columns\".format(churn1.shape[0], churn1.shape[1]))\n",
    "print(\"Features after get_dummies:\\n\", list(churn1.columns))"
   ]
  },
  {
   "cell_type": "code",
   "execution_count": 20,
   "metadata": {},
   "outputs": [],
   "source": [
    "X = churn3.drop('Churn_Yes', axis=1) # input categorical features\n",
    "y = churn3['Churn_Yes'] # target variable"
   ]
  },
  {
   "cell_type": "markdown",
   "metadata": {},
   "source": [
    "<b>Categorical features to select for customer attrition prediction.</b>"
   ]
  },
  {
   "cell_type": "code",
   "execution_count": 21,
   "metadata": {
    "scrolled": true
   },
   "outputs": [
    {
     "name": "stdout",
     "output_type": "stream",
     "text": [
      " gender_Male: 0.258699\n",
      " SeniorCitizen_Yes: 134.351545\n",
      " Partner_Yes: 82.412083\n",
      " Dependents_Yes: 133.036443\n",
      " tenure_Short: 372.654914\n",
      " PhoneService_Yes: 0.097261\n",
      " MultipleLines_Yes: 6.548512\n",
      " InternetService_DSL: 71.313180\n",
      " InternetService_Fberoptic: 374.476216\n",
      " OnlineSecurity_Yes: 147.295858\n",
      " OnlineBackup_Yes: 31.217694\n",
      " DeviceProtection_Yes: 20.226662\n",
      " TechSupport_Yes: 135.559783\n",
      " StreamingTV_Yes: 17.334235\n",
      " StreamingMovies_Yes: 16.242531\n",
      " Contract_OneYr: 176.123171\n",
      " Contract_TwoYr: 488.578090\n",
      " PaperlessBilling_Yes: 105.680863\n",
      " PaymentMethod_check: 135.084515\n",
      " MonthlyCharges_LowCharge: 148.208006\n"
     ]
    }
   ],
   "source": [
    "# categorical feature selection\n",
    "sf = SelectKBest(chi2, k='all')\n",
    "sf_fit = sf.fit(X, y)\n",
    "# print feature scores\n",
    "for i in range(len(sf_fit.scores_)):\n",
    "    print(' %s: %f' % (X.columns[i], sf_fit.scores_[i]))"
   ]
  },
  {
   "cell_type": "code",
   "execution_count": 22,
   "metadata": {
    "scrolled": true
   },
   "outputs": [
    {
     "data": {
      "image/png": "[encoded data removed]",
      "text/plain": [
       "<Figure size 360x360 with 1 Axes>"
      ]
     },
     "metadata": {
      "needs_background": "light"
     },
     "output_type": "display_data"
    }
   ],
   "source": [
    "# plot the scores\n",
    "dataset = pd.DataFrame()\n",
    "dataset['feature'] = X.columns[ range(len(sf_fit.scores_))]\n",
    "dataset['scores'] = sf_fit.scores_\n",
    "dataset = dataset.sort_values(by='scores', ascending=True)\n",
    "\n",
    "plt.figure(figsize=(5,5))\n",
    "sns.barplot(dataset['scores'], dataset['feature'], color='blue')\n",
    "sns.set_style('whitegrid')\n",
    "plt.ylabel('Categorical Feature', fontsize=18)\n",
    "plt.xlabel('Score', fontsize=18)\n",
    "plt.show()\n"
   ]
  },
  {
   "cell_type": "markdown",
   "metadata": {},
   "source": [
    "Categorical features with the highest values for the chi-squared stat indicate higher relevance and importance in predicting customer churn and may be included in a predictive model development."
   ]
  },
  {
   "cell_type": "markdown",
   "metadata": {},
   "source": [
    "<h3><b>Logistic Regression</b></h3>\n",
    "<br>Uses df_clean dataframe.</br> \n",
    "<br>Creates df_proc dataframe.</br>\n"
   ]
  },
  {
   "cell_type": "code",
   "execution_count": 23,
   "metadata": {
    "scrolled": false
   },
   "outputs": [
    {
     "data": {
      "text/html": [
       "<div>\n",
       "<style scoped>\n",
       "    .dataframe tbody tr th:only-of-type {\n",
       "        vertical-align: middle;\n",
       "    }\n",
       "\n",
       "    .dataframe tbody tr th {\n",
       "        vertical-align: top;\n",
       "    }\n",
       "\n",
       "    .dataframe thead th {\n",
       "        text-align: right;\n",
       "    }\n",
       "</style>\n",
       "<table border=\"1\" class=\"dataframe\">\n",
       "  <thead>\n",
       "    <tr style=\"text-align: right;\">\n",
       "      <th></th>\n",
       "      <th>gender</th>\n",
       "      <th>SeniorCitizen</th>\n",
       "      <th>Partner</th>\n",
       "      <th>Dependents</th>\n",
       "      <th>tenure</th>\n",
       "      <th>PhoneService</th>\n",
       "      <th>MultipleLines</th>\n",
       "      <th>InternetService</th>\n",
       "      <th>OnlineSecurity</th>\n",
       "      <th>OnlineBackup</th>\n",
       "      <th>DeviceProtection</th>\n",
       "      <th>TechSupport</th>\n",
       "      <th>StreamingTV</th>\n",
       "      <th>StreamingMovies</th>\n",
       "      <th>Contract</th>\n",
       "      <th>PaperlessBilling</th>\n",
       "      <th>PaymentMethod</th>\n",
       "      <th>MonthlyCharges</th>\n",
       "      <th>Churn</th>\n",
       "    </tr>\n",
       "  </thead>\n",
       "  <tbody>\n",
       "    <tr>\n",
       "      <th>0</th>\n",
       "      <td>Female</td>\n",
       "      <td>0</td>\n",
       "      <td>Yes</td>\n",
       "      <td>No</td>\n",
       "      <td>1</td>\n",
       "      <td>No</td>\n",
       "      <td>No phone service</td>\n",
       "      <td>DSL</td>\n",
       "      <td>No</td>\n",
       "      <td>Yes</td>\n",
       "      <td>No</td>\n",
       "      <td>No</td>\n",
       "      <td>No</td>\n",
       "      <td>No</td>\n",
       "      <td>Month-to-month</td>\n",
       "      <td>Yes</td>\n",
       "      <td>Electronic check</td>\n",
       "      <td>29.85</td>\n",
       "      <td>No</td>\n",
       "    </tr>\n",
       "    <tr>\n",
       "      <th>1</th>\n",
       "      <td>Male</td>\n",
       "      <td>0</td>\n",
       "      <td>No</td>\n",
       "      <td>No</td>\n",
       "      <td>34</td>\n",
       "      <td>Yes</td>\n",
       "      <td>No</td>\n",
       "      <td>DSL</td>\n",
       "      <td>Yes</td>\n",
       "      <td>No</td>\n",
       "      <td>Yes</td>\n",
       "      <td>No</td>\n",
       "      <td>No</td>\n",
       "      <td>No</td>\n",
       "      <td>One year</td>\n",
       "      <td>No</td>\n",
       "      <td>Mailed check</td>\n",
       "      <td>56.95</td>\n",
       "      <td>No</td>\n",
       "    </tr>\n",
       "    <tr>\n",
       "      <th>2</th>\n",
       "      <td>Male</td>\n",
       "      <td>0</td>\n",
       "      <td>No</td>\n",
       "      <td>No</td>\n",
       "      <td>2</td>\n",
       "      <td>Yes</td>\n",
       "      <td>No</td>\n",
       "      <td>DSL</td>\n",
       "      <td>Yes</td>\n",
       "      <td>Yes</td>\n",
       "      <td>No</td>\n",
       "      <td>No</td>\n",
       "      <td>No</td>\n",
       "      <td>No</td>\n",
       "      <td>Month-to-month</td>\n",
       "      <td>Yes</td>\n",
       "      <td>Mailed check</td>\n",
       "      <td>53.85</td>\n",
       "      <td>Yes</td>\n",
       "    </tr>\n",
       "    <tr>\n",
       "      <th>3</th>\n",
       "      <td>Male</td>\n",
       "      <td>0</td>\n",
       "      <td>No</td>\n",
       "      <td>No</td>\n",
       "      <td>45</td>\n",
       "      <td>No</td>\n",
       "      <td>No phone service</td>\n",
       "      <td>DSL</td>\n",
       "      <td>Yes</td>\n",
       "      <td>No</td>\n",
       "      <td>Yes</td>\n",
       "      <td>Yes</td>\n",
       "      <td>No</td>\n",
       "      <td>No</td>\n",
       "      <td>One year</td>\n",
       "      <td>No</td>\n",
       "      <td>Bank transfer (automatic)</td>\n",
       "      <td>42.30</td>\n",
       "      <td>No</td>\n",
       "    </tr>\n",
       "    <tr>\n",
       "      <th>4</th>\n",
       "      <td>Female</td>\n",
       "      <td>0</td>\n",
       "      <td>No</td>\n",
       "      <td>No</td>\n",
       "      <td>2</td>\n",
       "      <td>Yes</td>\n",
       "      <td>No</td>\n",
       "      <td>Fiber optic</td>\n",
       "      <td>No</td>\n",
       "      <td>No</td>\n",
       "      <td>No</td>\n",
       "      <td>No</td>\n",
       "      <td>No</td>\n",
       "      <td>No</td>\n",
       "      <td>Month-to-month</td>\n",
       "      <td>Yes</td>\n",
       "      <td>Electronic check</td>\n",
       "      <td>70.70</td>\n",
       "      <td>Yes</td>\n",
       "    </tr>\n",
       "  </tbody>\n",
       "</table>\n",
       "</div>"
      ],
      "text/plain": [
       "   gender  SeniorCitizen Partner Dependents  tenure PhoneService  \\\n",
       "0  Female              0     Yes         No       1           No   \n",
       "1    Male              0      No         No      34          Yes   \n",
       "2    Male              0      No         No       2          Yes   \n",
       "3    Male              0      No         No      45           No   \n",
       "4  Female              0      No         No       2          Yes   \n",
       "\n",
       "      MultipleLines InternetService OnlineSecurity OnlineBackup  \\\n",
       "0  No phone service             DSL             No          Yes   \n",
       "1                No             DSL            Yes           No   \n",
       "2                No             DSL            Yes          Yes   \n",
       "3  No phone service             DSL            Yes           No   \n",
       "4                No     Fiber optic             No           No   \n",
       "\n",
       "  DeviceProtection TechSupport StreamingTV StreamingMovies        Contract  \\\n",
       "0               No          No          No              No  Month-to-month   \n",
       "1              Yes          No          No              No        One year   \n",
       "2               No          No          No              No  Month-to-month   \n",
       "3              Yes         Yes          No              No        One year   \n",
       "4               No          No          No              No  Month-to-month   \n",
       "\n",
       "  PaperlessBilling              PaymentMethod  MonthlyCharges Churn  \n",
       "0              Yes           Electronic check           29.85    No  \n",
       "1               No               Mailed check           56.95    No  \n",
       "2              Yes               Mailed check           53.85   Yes  \n",
       "3               No  Bank transfer (automatic)           42.30    No  \n",
       "4              Yes           Electronic check           70.70   Yes  "
      ]
     },
     "execution_count": 23,
     "metadata": {},
     "output_type": "execute_result"
    }
   ],
   "source": [
    "df_clean = pd.read_excel('path_here') #clean dataframe for regression\n",
    "df_clean.drop(['customerID','TotalCharges'], axis=1, inplace=True)\n",
    "df_clean.head()"
   ]
  },
  {
   "cell_type": "markdown",
   "metadata": {},
   "source": [
    "<b>Split features into binary, numeric or categorical to retrieve dummy variables.</b>"
   ]
  },
  {
   "cell_type": "code",
   "execution_count": 24,
   "metadata": {},
   "outputs": [],
   "source": [
    "binary_feat = df_clean.nunique()[df_clean.nunique() == 2].keys().tolist()\n",
    "numeric_feat = [col for col in df_clean.select_dtypes(['float','int']).columns.tolist() if col not in binary_feat]\n",
    "categorical_feat = [ col for col in df_clean.select_dtypes('object').columns.to_list() if col not in binary_feat + \n",
    "                    numeric_feat ]\n",
    "\n",
    "df_proc = df_clean.copy()"
   ]
  },
  {
   "cell_type": "code",
   "execution_count": 25,
   "metadata": {},
   "outputs": [],
   "source": [
    "le = LabelEncoder()\n",
    "for i in binary_feat:\n",
    "  df_proc[i] = le.fit_transform(df_proc[i])"
   ]
  },
  {
   "cell_type": "code",
   "execution_count": 26,
   "metadata": {
    "scrolled": false
   },
   "outputs": [
    {
     "name": "stdout",
     "output_type": "stream",
     "text": [
      "['MultipleLines', 'InternetService', 'OnlineSecurity', 'OnlineBackup', 'DeviceProtection', 'TechSupport', 'StreamingTV', 'StreamingMovies', 'Contract', 'PaymentMethod']\n",
      "Index(['gender', 'SeniorCitizen', 'Partner', 'Dependents', 'tenure',\n",
      "       'PhoneService', 'PaperlessBilling', 'MonthlyCharges', 'Churn',\n",
      "       'MultipleLines_No', 'MultipleLines_No phone service',\n",
      "       'MultipleLines_Yes', 'InternetService_DSL',\n",
      "       'InternetService_Fiber optic', 'InternetService_No',\n",
      "       'OnlineSecurity_No', 'OnlineSecurity_No internet service',\n",
      "       'OnlineSecurity_Yes', 'OnlineBackup_No',\n",
      "       'OnlineBackup_No internet service', 'OnlineBackup_Yes',\n",
      "       'DeviceProtection_No', 'DeviceProtection_No internet service',\n",
      "       'DeviceProtection_Yes', 'TechSupport_No',\n",
      "       'TechSupport_No internet service', 'TechSupport_Yes', 'StreamingTV_No',\n",
      "       'StreamingTV_No internet service', 'StreamingTV_Yes',\n",
      "       'StreamingMovies_No', 'StreamingMovies_No internet service',\n",
      "       'StreamingMovies_Yes', 'Contract_Month-to-month', 'Contract_One year',\n",
      "       'Contract_Two year', 'PaymentMethod_Bank transfer (automatic)',\n",
      "       'PaymentMethod_Credit card (automatic)',\n",
      "       'PaymentMethod_Electronic check', 'PaymentMethod_Mailed check'],\n",
      "      dtype='object')\n"
     ]
    }
   ],
   "source": [
    "print(categorical_feat)\n",
    "df_proc = pd.get_dummies(df_proc, columns=categorical_feat)\n",
    "print(df_proc.columns)"
   ]
  },
  {
   "cell_type": "code",
   "execution_count": 27,
   "metadata": {},
   "outputs": [
    {
     "name": "stdout",
     "output_type": "stream",
     "text": [
      "Original dataset:  (7043, 19)\n",
      "Processed dataset:  (7043, 40)\n"
     ]
    },
    {
     "data": {
      "text/html": [
       "<div>\n",
       "<style scoped>\n",
       "    .dataframe tbody tr th:only-of-type {\n",
       "        vertical-align: middle;\n",
       "    }\n",
       "\n",
       "    .dataframe tbody tr th {\n",
       "        vertical-align: top;\n",
       "    }\n",
       "\n",
       "    .dataframe thead th {\n",
       "        text-align: right;\n",
       "    }\n",
       "</style>\n",
       "<table border=\"1\" class=\"dataframe\">\n",
       "  <thead>\n",
       "    <tr style=\"text-align: right;\">\n",
       "      <th></th>\n",
       "      <th>gender</th>\n",
       "      <th>SeniorCitizen</th>\n",
       "      <th>Partner</th>\n",
       "      <th>Dependents</th>\n",
       "      <th>tenure</th>\n",
       "      <th>PhoneService</th>\n",
       "      <th>PaperlessBilling</th>\n",
       "      <th>MonthlyCharges</th>\n",
       "      <th>Churn</th>\n",
       "      <th>MultipleLines_No</th>\n",
       "      <th>...</th>\n",
       "      <th>StreamingMovies_No</th>\n",
       "      <th>StreamingMovies_No internet service</th>\n",
       "      <th>StreamingMovies_Yes</th>\n",
       "      <th>Contract_Month-to-month</th>\n",
       "      <th>Contract_One year</th>\n",
       "      <th>Contract_Two year</th>\n",
       "      <th>PaymentMethod_Bank transfer (automatic)</th>\n",
       "      <th>PaymentMethod_Credit card (automatic)</th>\n",
       "      <th>PaymentMethod_Electronic check</th>\n",
       "      <th>PaymentMethod_Mailed check</th>\n",
       "    </tr>\n",
       "  </thead>\n",
       "  <tbody>\n",
       "    <tr>\n",
       "      <th>0</th>\n",
       "      <td>0</td>\n",
       "      <td>0</td>\n",
       "      <td>1</td>\n",
       "      <td>0</td>\n",
       "      <td>1</td>\n",
       "      <td>0</td>\n",
       "      <td>1</td>\n",
       "      <td>29.85</td>\n",
       "      <td>0</td>\n",
       "      <td>0</td>\n",
       "      <td>...</td>\n",
       "      <td>1</td>\n",
       "      <td>0</td>\n",
       "      <td>0</td>\n",
       "      <td>1</td>\n",
       "      <td>0</td>\n",
       "      <td>0</td>\n",
       "      <td>0</td>\n",
       "      <td>0</td>\n",
       "      <td>1</td>\n",
       "      <td>0</td>\n",
       "    </tr>\n",
       "    <tr>\n",
       "      <th>1</th>\n",
       "      <td>1</td>\n",
       "      <td>0</td>\n",
       "      <td>0</td>\n",
       "      <td>0</td>\n",
       "      <td>34</td>\n",
       "      <td>1</td>\n",
       "      <td>0</td>\n",
       "      <td>56.95</td>\n",
       "      <td>0</td>\n",
       "      <td>1</td>\n",
       "      <td>...</td>\n",
       "      <td>1</td>\n",
       "      <td>0</td>\n",
       "      <td>0</td>\n",
       "      <td>0</td>\n",
       "      <td>1</td>\n",
       "      <td>0</td>\n",
       "      <td>0</td>\n",
       "      <td>0</td>\n",
       "      <td>0</td>\n",
       "      <td>1</td>\n",
       "    </tr>\n",
       "    <tr>\n",
       "      <th>2</th>\n",
       "      <td>1</td>\n",
       "      <td>0</td>\n",
       "      <td>0</td>\n",
       "      <td>0</td>\n",
       "      <td>2</td>\n",
       "      <td>1</td>\n",
       "      <td>1</td>\n",
       "      <td>53.85</td>\n",
       "      <td>1</td>\n",
       "      <td>1</td>\n",
       "      <td>...</td>\n",
       "      <td>1</td>\n",
       "      <td>0</td>\n",
       "      <td>0</td>\n",
       "      <td>1</td>\n",
       "      <td>0</td>\n",
       "      <td>0</td>\n",
       "      <td>0</td>\n",
       "      <td>0</td>\n",
       "      <td>0</td>\n",
       "      <td>1</td>\n",
       "    </tr>\n",
       "    <tr>\n",
       "      <th>3</th>\n",
       "      <td>1</td>\n",
       "      <td>0</td>\n",
       "      <td>0</td>\n",
       "      <td>0</td>\n",
       "      <td>45</td>\n",
       "      <td>0</td>\n",
       "      <td>0</td>\n",
       "      <td>42.30</td>\n",
       "      <td>0</td>\n",
       "      <td>0</td>\n",
       "      <td>...</td>\n",
       "      <td>1</td>\n",
       "      <td>0</td>\n",
       "      <td>0</td>\n",
       "      <td>0</td>\n",
       "      <td>1</td>\n",
       "      <td>0</td>\n",
       "      <td>1</td>\n",
       "      <td>0</td>\n",
       "      <td>0</td>\n",
       "      <td>0</td>\n",
       "    </tr>\n",
       "    <tr>\n",
       "      <th>4</th>\n",
       "      <td>0</td>\n",
       "      <td>0</td>\n",
       "      <td>0</td>\n",
       "      <td>0</td>\n",
       "      <td>2</td>\n",
       "      <td>1</td>\n",
       "      <td>1</td>\n",
       "      <td>70.70</td>\n",
       "      <td>1</td>\n",
       "      <td>1</td>\n",
       "      <td>...</td>\n",
       "      <td>1</td>\n",
       "      <td>0</td>\n",
       "      <td>0</td>\n",
       "      <td>1</td>\n",
       "      <td>0</td>\n",
       "      <td>0</td>\n",
       "      <td>0</td>\n",
       "      <td>0</td>\n",
       "      <td>1</td>\n",
       "      <td>0</td>\n",
       "    </tr>\n",
       "  </tbody>\n",
       "</table>\n",
       "<p>5 rows × 40 columns</p>\n",
       "</div>"
      ],
      "text/plain": [
       "   gender  SeniorCitizen  Partner  Dependents  tenure  PhoneService  \\\n",
       "0       0              0        1           0       1             0   \n",
       "1       1              0        0           0      34             1   \n",
       "2       1              0        0           0       2             1   \n",
       "3       1              0        0           0      45             0   \n",
       "4       0              0        0           0       2             1   \n",
       "\n",
       "   PaperlessBilling  MonthlyCharges  Churn  MultipleLines_No  ...  \\\n",
       "0                 1           29.85      0                 0  ...   \n",
       "1                 0           56.95      0                 1  ...   \n",
       "2                 1           53.85      1                 1  ...   \n",
       "3                 0           42.30      0                 0  ...   \n",
       "4                 1           70.70      1                 1  ...   \n",
       "\n",
       "   StreamingMovies_No  StreamingMovies_No internet service  \\\n",
       "0                   1                                    0   \n",
       "1                   1                                    0   \n",
       "2                   1                                    0   \n",
       "3                   1                                    0   \n",
       "4                   1                                    0   \n",
       "\n",
       "   StreamingMovies_Yes  Contract_Month-to-month  Contract_One year  \\\n",
       "0                    0                        1                  0   \n",
       "1                    0                        0                  1   \n",
       "2                    0                        1                  0   \n",
       "3                    0                        0                  1   \n",
       "4                    0                        1                  0   \n",
       "\n",
       "   Contract_Two year  PaymentMethod_Bank transfer (automatic)  \\\n",
       "0                  0                                        0   \n",
       "1                  0                                        0   \n",
       "2                  0                                        0   \n",
       "3                  0                                        1   \n",
       "4                  0                                        0   \n",
       "\n",
       "   PaymentMethod_Credit card (automatic)  PaymentMethod_Electronic check  \\\n",
       "0                                      0                               1   \n",
       "1                                      0                               0   \n",
       "2                                      0                               0   \n",
       "3                                      0                               0   \n",
       "4                                      0                               1   \n",
       "\n",
       "   PaymentMethod_Mailed check  \n",
       "0                           0  \n",
       "1                           1  \n",
       "2                           1  \n",
       "3                           0  \n",
       "4                           0  \n",
       "\n",
       "[5 rows x 40 columns]"
      ]
     },
     "execution_count": 27,
     "metadata": {},
     "output_type": "execute_result"
    }
   ],
   "source": [
    "# Compare original vs processed dataset.\n",
    "print('Original dataset: ', churn1.shape) \n",
    "print('Processed dataset: ', df_proc.shape)\n",
    "\n",
    "df_proc.head()"
   ]
  },
  {
   "cell_type": "markdown",
   "metadata": {},
   "source": [
    "<b>Split train and test data.</b>"
   ]
  },
  {
   "cell_type": "code",
   "execution_count": 28,
   "metadata": {},
   "outputs": [],
   "source": [
    "# split df_proc in feature matrix and target vector\n",
    "X=df_proc.drop('Churn', axis=1)\n",
    "y=df_proc['Churn']\n",
    "\n",
    "# split df_proc between train and test\n",
    "X_train, X_test, y_train, y_test = train_test_split(X, y)"
   ]
  },
  {
   "cell_type": "code",
   "execution_count": 29,
   "metadata": {},
   "outputs": [],
   "source": [
    "# cross-validation function\n",
    "def val_model(X, y, clf, quite=False):\n",
    "  \"\"\"\n",
    "    Make cross-validation for a given model\n",
    "\n",
    "    # Arguments\n",
    "      X: DataFrame, feature matrix\n",
    "      y: Series, target vector\n",
    "      clf: classifier from scikit-learn\n",
    "      quite: bool, indicate if funcion should print the results\n",
    "\n",
    "    # Returns\n",
    "      float, validation scores\n",
    "\n",
    "  \"\"\"\n",
    "\n",
    "  X = np.array(X)\n",
    "  y = np.array(y)\n",
    "\n",
    "  pipeline = make_pipeline(StandardScaler(), clf)\n",
    "  scores = cross_val_score(pipeline, X, y, cv=5, scoring='recall')\n",
    "\n",
    "  if quite == False:\n",
    "    print(\"##### \", clf.__class__.__name__, \" #####\")\n",
    "    print(\"scores:\", scores)\n",
    "    print(\"recall: {:.3f} (+/- {:.2f})\".format(scores.mean(), scores.std()))\n",
    "\n",
    "  return scores.mean()\n",
    "\n",
    "def getClfRecallScores(X_train, y_train, *clf_list):\n",
    "  \"\"\"\n",
    "  Provides recall score for a given list of models\n",
    "\n",
    "  # Arguments\n",
    "    X_train: X_train\n",
    "    y_train: y_train\n",
    "    *clf_list: list of classifiers\n",
    "\n",
    "  # Returns\n",
    "    DataFrame, recall scores\n",
    "\n",
    "  \"\"\"\n",
    "\n",
    "  model_name = []\n",
    "  recall = []\n",
    "\n",
    "  for model in clf_list:\n",
    "    model_name.append(model.__class__.__name__)\n",
    "    recall.append(val_model(X_train, y_train, model))\n",
    "  \n",
    "  return pd.DataFrame(data=recall, index=model_name, columns=['Recall']).sort_values(by='Recall', ascending=False)"
   ]
  },
  {
   "cell_type": "code",
   "execution_count": 30,
   "metadata": {},
   "outputs": [],
   "source": [
    "# under sampling\n",
    "rus = RandomUnderSampler()\n",
    "X_train_rus, y_train_rus = rus.fit_sample(X_train, y_train)"
   ]
  },
  {
   "cell_type": "code",
   "execution_count": 31,
   "metadata": {
    "scrolled": true
   },
   "outputs": [
    {
     "data": {
      "text/plain": [
       "(array([0, 1]), array([1400, 1400], dtype=int64))"
      ]
     },
     "execution_count": 31,
     "metadata": {},
     "output_type": "execute_result"
    }
   ],
   "source": [
    "np.unique(y_train_rus, return_counts=True)"
   ]
  },
  {
   "cell_type": "code",
   "execution_count": 32,
   "metadata": {},
   "outputs": [],
   "source": [
    "# standardizing X_train and X_test\n",
    "scaler = StandardScaler()\n",
    "X_train = scaler.fit_transform(X_train)\n",
    "X_train_rus = scaler.fit_transform(X_train_rus)\n",
    "X_test = scaler.transform(X_test)"
   ]
  },
  {
   "cell_type": "markdown",
   "metadata": {},
   "source": [
    "<b>Retrieve recall scores for each modeling technique.</b>"
   ]
  },
  {
   "cell_type": "code",
   "execution_count": 33,
   "metadata": {},
   "outputs": [
    {
     "name": "stdout",
     "output_type": "stream",
     "text": [
      "#####  DecisionTreeClassifier  #####\n",
      "scores: [0.675      0.7        0.7        0.68928571 0.68214286]\n",
      "recall: 0.689 (+/- 0.01)\n",
      "#####  SVC  #####\n",
      "scores: [0.81428571 0.81071429 0.825      0.81071429 0.83928571]\n",
      "recall: 0.820 (+/- 0.01)\n",
      "#####  LogisticRegression  #####\n",
      "scores: [0.76071429 0.79285714 0.81071429 0.80714286 0.79642857]\n",
      "recall: 0.794 (+/- 0.02)\n",
      "#####  XGBClassifier  #####\n",
      "scores: [0.73571429 0.71071429 0.74642857 0.73571429 0.82857143]\n",
      "recall: 0.751 (+/- 0.04)\n",
      "                          Recall\n",
      "SVC                     0.820000\n",
      "LogisticRegression      0.793571\n",
      "XGBClassifier           0.751429\n",
      "DecisionTreeClassifier  0.689286\n"
     ]
    }
   ],
   "source": [
    "# picked these four because they are ideal for regression or classification techniques\n",
    "dt = DecisionTreeClassifier()\n",
    "svc = SVC()\n",
    "lr = LogisticRegression()\n",
    "xgb = XGBClassifier()\n",
    "\n",
    "df_scores = getClfRecallScores(X_train_rus, y_train_rus, dt, svc, lr, xgb)\n",
    "\n",
    "print(df_scores)"
   ]
  },
  {
   "cell_type": "markdown",
   "metadata": {},
   "source": [
    "Logistic Regression has one of the highest recall score. This is the best technique for binary variable classification so I will choose this data mining method."
   ]
  },
  {
   "cell_type": "markdown",
   "metadata": {},
   "source": [
    "<b>Tweak Logistic Regression Model to increase accuracy.</b>"
   ]
  },
  {
   "cell_type": "code",
   "execution_count": 34,
   "metadata": {},
   "outputs": [
    {
     "name": "stdout",
     "output_type": "stream",
     "text": [
      "Best recall: 0.8214285714285714 for {'C': 0.001, 'solver': 'liblinear'}\n"
     ]
    }
   ],
   "source": [
    "kfold = StratifiedKFold(n_splits=5, shuffle=True)\n",
    "\n",
    "lr = LogisticRegression()\n",
    "\n",
    "param_grid = {'solver': ['newton-cg', 'lbfgs', 'liblinear'],\n",
    "              'C': [0.001, 0.01, 1, 10, 100]}\n",
    "\n",
    "search = GridSearchCV(lr, param_grid, scoring='recall', cv=kfold)\n",
    "result = search.fit(X_train_rus, y_train_rus)\n",
    "\n",
    "print(f'Best recall: {result.best_score_} for {result.best_params_}')"
   ]
  },
  {
   "cell_type": "markdown",
   "metadata": {},
   "source": [
    "<b>Logistic Regression Modeling</b>"
   ]
  },
  {
   "cell_type": "code",
   "execution_count": 35,
   "metadata": {},
   "outputs": [],
   "source": [
    "model_lr = LogisticRegression(solver='liblinear', C=0.001)\n",
    "model_lr.fit(X_train_rus, y_train_rus)\n",
    "y_pred_lr = model_lr.predict(X_test)\n",
    "lr_corr = confusion_matrix(y_test, y_pred_lr, normalize='true')"
   ]
  },
  {
   "cell_type": "code",
   "execution_count": 36,
   "metadata": {
    "scrolled": true
   },
   "outputs": [
    {
     "name": "stdout",
     "output_type": "stream",
     "text": [
      "Training model accuracy score: 0.6904581597879591\n",
      "Testing model accuracy score: 0.7325383304940375\n",
      "Classification Report:\n",
      "              precision    recall  f1-score   support\n",
      "\n",
      "           0       0.90      0.71      0.80      1292\n",
      "           1       0.50      0.79      0.61       469\n",
      "\n",
      "    accuracy                           0.73      1761\n",
      "   macro avg       0.70      0.75      0.70      1761\n",
      "weighted avg       0.80      0.73      0.75      1761\n",
      "\n"
     ]
    }
   ],
   "source": [
    "print('Training model accuracy score:',model_lr.score(X_train, y_train))\n",
    "print('Testing model accuracy score:',model_lr.score(X_test, y_test))\n",
    "\n",
    "print('Classification Report:')\n",
    "print(classification_report(y_test, y_pred_lr))"
   ]
  },
  {
   "cell_type": "markdown",
   "metadata": {},
   "source": [
    "<b>Confusion Matrix for Model</b>"
   ]
  },
  {
   "cell_type": "code",
   "execution_count": 37,
   "metadata": {},
   "outputs": [
    {
     "data": {
      "image/png": "[encoded data removed]",
      "text/plain": [
       "<Figure size 576x576 with 1 Axes>"
      ]
     },
     "metadata": {},
     "output_type": "display_data"
    },
    {
     "name": "stdout",
     "output_type": "stream",
     "text": [
      "[[919 373]\n",
      " [ 98 371]]\n"
     ]
    }
   ],
   "source": [
    "cm = confusion_matrix(y_test, y_pred_lr)\n",
    "\n",
    "fig, ax = plt.subplots(figsize=(8, 8))\n",
    "ax.imshow(cm)\n",
    "ax.grid(False)\n",
    "ax.xaxis.set(ticks=(0, 1), ticklabels=('Predicted 0s', 'Predicted 1s'))\n",
    "ax.yaxis.set(ticks=(0, 1), ticklabels=('Actual 0s', 'Actual 1s'))\n",
    "ax.set_ylim(1.5, -0.5)\n",
    "for i in range(2):\n",
    "    for j in range(2):\n",
    "        ax.text(j, i, cm[i, j], ha='center', va='center', color='white')\n",
    "plt.show()\n",
    "print(confusion_matrix(y_test, y_pred_lr))"
   ]
  },
  {
   "cell_type": "markdown",
   "metadata": {},
   "source": [
    "<li>True negatives in the upper-left position: 919</li>\n",
    "<li>False negatives in the lower-left position: 98</li>\n",
    "<li>False positives in the upper-right position: 373</li>\n",
    "<li>True positives in the lower-right position: 371</li>"
   ]
  },
  {
   "cell_type": "markdown",
   "metadata": {},
   "source": [
    "<h2><b>Data Analysis</b></h2>\n",
    "<br>Explore the churn data of each category feature.</br>\n",
    "<br>Recode the cateogory outcomes.</br>\n",
    "<br>Uses df_clean dataframe.</br>"
   ]
  },
  {
   "cell_type": "code",
   "execution_count": 38,
   "metadata": {
    "scrolled": true
   },
   "outputs": [
    {
     "name": "stdout",
     "output_type": "stream",
     "text": [
      "Number of categorical features : 16\n",
      "Number of numerical features : 3\n",
      "The data set contains: 7043 rows and 19 columns\n"
     ]
    },
    {
     "data": {
      "text/html": [
       "<div>\n",
       "<style scoped>\n",
       "    .dataframe tbody tr th:only-of-type {\n",
       "        vertical-align: middle;\n",
       "    }\n",
       "\n",
       "    .dataframe tbody tr th {\n",
       "        vertical-align: top;\n",
       "    }\n",
       "\n",
       "    .dataframe thead th {\n",
       "        text-align: right;\n",
       "    }\n",
       "</style>\n",
       "<table border=\"1\" class=\"dataframe\">\n",
       "  <thead>\n",
       "    <tr style=\"text-align: right;\">\n",
       "      <th></th>\n",
       "      <th>gender</th>\n",
       "      <th>SeniorCitizen</th>\n",
       "      <th>Partner</th>\n",
       "      <th>Dependents</th>\n",
       "      <th>tenure</th>\n",
       "      <th>PhoneService</th>\n",
       "      <th>MultipleLines</th>\n",
       "      <th>InternetService</th>\n",
       "      <th>OnlineSecurity</th>\n",
       "      <th>OnlineBackup</th>\n",
       "      <th>DeviceProtection</th>\n",
       "      <th>TechSupport</th>\n",
       "      <th>StreamingTV</th>\n",
       "      <th>StreamingMovies</th>\n",
       "      <th>Contract</th>\n",
       "      <th>PaperlessBilling</th>\n",
       "      <th>PaymentMethod</th>\n",
       "      <th>MonthlyCharges</th>\n",
       "      <th>Churn</th>\n",
       "    </tr>\n",
       "  </thead>\n",
       "  <tbody>\n",
       "    <tr>\n",
       "      <th>0</th>\n",
       "      <td>Female</td>\n",
       "      <td>0</td>\n",
       "      <td>Yes</td>\n",
       "      <td>No</td>\n",
       "      <td>1</td>\n",
       "      <td>No</td>\n",
       "      <td>No phone service</td>\n",
       "      <td>DSL</td>\n",
       "      <td>No</td>\n",
       "      <td>Yes</td>\n",
       "      <td>No</td>\n",
       "      <td>No</td>\n",
       "      <td>No</td>\n",
       "      <td>No</td>\n",
       "      <td>Month-to-month</td>\n",
       "      <td>Yes</td>\n",
       "      <td>Electronic check</td>\n",
       "      <td>29.85</td>\n",
       "      <td>No</td>\n",
       "    </tr>\n",
       "    <tr>\n",
       "      <th>1</th>\n",
       "      <td>Male</td>\n",
       "      <td>0</td>\n",
       "      <td>No</td>\n",
       "      <td>No</td>\n",
       "      <td>34</td>\n",
       "      <td>Yes</td>\n",
       "      <td>No</td>\n",
       "      <td>DSL</td>\n",
       "      <td>Yes</td>\n",
       "      <td>No</td>\n",
       "      <td>Yes</td>\n",
       "      <td>No</td>\n",
       "      <td>No</td>\n",
       "      <td>No</td>\n",
       "      <td>One year</td>\n",
       "      <td>No</td>\n",
       "      <td>Mailed check</td>\n",
       "      <td>56.95</td>\n",
       "      <td>No</td>\n",
       "    </tr>\n",
       "    <tr>\n",
       "      <th>2</th>\n",
       "      <td>Male</td>\n",
       "      <td>0</td>\n",
       "      <td>No</td>\n",
       "      <td>No</td>\n",
       "      <td>2</td>\n",
       "      <td>Yes</td>\n",
       "      <td>No</td>\n",
       "      <td>DSL</td>\n",
       "      <td>Yes</td>\n",
       "      <td>Yes</td>\n",
       "      <td>No</td>\n",
       "      <td>No</td>\n",
       "      <td>No</td>\n",
       "      <td>No</td>\n",
       "      <td>Month-to-month</td>\n",
       "      <td>Yes</td>\n",
       "      <td>Mailed check</td>\n",
       "      <td>53.85</td>\n",
       "      <td>Yes</td>\n",
       "    </tr>\n",
       "    <tr>\n",
       "      <th>3</th>\n",
       "      <td>Male</td>\n",
       "      <td>0</td>\n",
       "      <td>No</td>\n",
       "      <td>No</td>\n",
       "      <td>45</td>\n",
       "      <td>No</td>\n",
       "      <td>No phone service</td>\n",
       "      <td>DSL</td>\n",
       "      <td>Yes</td>\n",
       "      <td>No</td>\n",
       "      <td>Yes</td>\n",
       "      <td>Yes</td>\n",
       "      <td>No</td>\n",
       "      <td>No</td>\n",
       "      <td>One year</td>\n",
       "      <td>No</td>\n",
       "      <td>Bank transfer (automatic)</td>\n",
       "      <td>42.30</td>\n",
       "      <td>No</td>\n",
       "    </tr>\n",
       "    <tr>\n",
       "      <th>4</th>\n",
       "      <td>Female</td>\n",
       "      <td>0</td>\n",
       "      <td>No</td>\n",
       "      <td>No</td>\n",
       "      <td>2</td>\n",
       "      <td>Yes</td>\n",
       "      <td>No</td>\n",
       "      <td>Fiber optic</td>\n",
       "      <td>No</td>\n",
       "      <td>No</td>\n",
       "      <td>No</td>\n",
       "      <td>No</td>\n",
       "      <td>No</td>\n",
       "      <td>No</td>\n",
       "      <td>Month-to-month</td>\n",
       "      <td>Yes</td>\n",
       "      <td>Electronic check</td>\n",
       "      <td>70.70</td>\n",
       "      <td>Yes</td>\n",
       "    </tr>\n",
       "  </tbody>\n",
       "</table>\n",
       "</div>"
      ],
      "text/plain": [
       "   gender  SeniorCitizen Partner Dependents  tenure PhoneService  \\\n",
       "0  Female              0     Yes         No       1           No   \n",
       "1    Male              0      No         No      34          Yes   \n",
       "2    Male              0      No         No       2          Yes   \n",
       "3    Male              0      No         No      45           No   \n",
       "4  Female              0      No         No       2          Yes   \n",
       "\n",
       "      MultipleLines InternetService OnlineSecurity OnlineBackup  \\\n",
       "0  No phone service             DSL             No          Yes   \n",
       "1                No             DSL            Yes           No   \n",
       "2                No             DSL            Yes          Yes   \n",
       "3  No phone service             DSL            Yes           No   \n",
       "4                No     Fiber optic             No           No   \n",
       "\n",
       "  DeviceProtection TechSupport StreamingTV StreamingMovies        Contract  \\\n",
       "0               No          No          No              No  Month-to-month   \n",
       "1              Yes          No          No              No        One year   \n",
       "2               No          No          No              No  Month-to-month   \n",
       "3              Yes         Yes          No              No        One year   \n",
       "4               No          No          No              No  Month-to-month   \n",
       "\n",
       "  PaperlessBilling              PaymentMethod  MonthlyCharges Churn  \n",
       "0              Yes           Electronic check           29.85    No  \n",
       "1               No               Mailed check           56.95    No  \n",
       "2              Yes               Mailed check           53.85   Yes  \n",
       "3               No  Bank transfer (automatic)           42.30    No  \n",
       "4              Yes           Electronic check           70.70   Yes  "
      ]
     },
     "execution_count": 38,
     "metadata": {},
     "output_type": "execute_result"
    }
   ],
   "source": [
    "print(\"Number of categorical features : {}\".format(len(df_clean.select_dtypes(include=['object']).columns)))\n",
    "print(\"Number of numerical features : {}\".format(len(df_clean.select_dtypes(include=['int64', 'float64']).columns)))\n",
    "print(\"The data set contains: {} rows and {} columns\".format(df_clean.shape[0], df_clean.shape[1]))\n",
    "df_clean.head()"
   ]
  },
  {
   "cell_type": "markdown",
   "metadata": {},
   "source": [
    "<b>Descriptive statistics summary and visualization for numerical categories.</b>\n",
    "<br>Convert the numerical columns to categorical features.</br>"
   ]
  },
  {
   "cell_type": "code",
   "execution_count": 39,
   "metadata": {},
   "outputs": [
    {
     "data": {
      "text/html": [
       "<div>\n",
       "<style scoped>\n",
       "    .dataframe tbody tr th:only-of-type {\n",
       "        vertical-align: middle;\n",
       "    }\n",
       "\n",
       "    .dataframe tbody tr th {\n",
       "        vertical-align: top;\n",
       "    }\n",
       "\n",
       "    .dataframe thead th {\n",
       "        text-align: right;\n",
       "    }\n",
       "</style>\n",
       "<table border=\"1\" class=\"dataframe\">\n",
       "  <thead>\n",
       "    <tr style=\"text-align: right;\">\n",
       "      <th></th>\n",
       "      <th>SeniorCitizen</th>\n",
       "      <th>tenure</th>\n",
       "      <th>MonthlyCharges</th>\n",
       "    </tr>\n",
       "  </thead>\n",
       "  <tbody>\n",
       "    <tr>\n",
       "      <th>count</th>\n",
       "      <td>7043.000000</td>\n",
       "      <td>7043.000000</td>\n",
       "      <td>7043.000000</td>\n",
       "    </tr>\n",
       "    <tr>\n",
       "      <th>mean</th>\n",
       "      <td>0.162147</td>\n",
       "      <td>32.371149</td>\n",
       "      <td>64.761692</td>\n",
       "    </tr>\n",
       "    <tr>\n",
       "      <th>std</th>\n",
       "      <td>0.368612</td>\n",
       "      <td>24.559481</td>\n",
       "      <td>30.090047</td>\n",
       "    </tr>\n",
       "    <tr>\n",
       "      <th>min</th>\n",
       "      <td>0.000000</td>\n",
       "      <td>0.000000</td>\n",
       "      <td>18.250000</td>\n",
       "    </tr>\n",
       "    <tr>\n",
       "      <th>25%</th>\n",
       "      <td>0.000000</td>\n",
       "      <td>9.000000</td>\n",
       "      <td>35.500000</td>\n",
       "    </tr>\n",
       "    <tr>\n",
       "      <th>50%</th>\n",
       "      <td>0.000000</td>\n",
       "      <td>29.000000</td>\n",
       "      <td>70.350000</td>\n",
       "    </tr>\n",
       "    <tr>\n",
       "      <th>75%</th>\n",
       "      <td>0.000000</td>\n",
       "      <td>55.000000</td>\n",
       "      <td>89.850000</td>\n",
       "    </tr>\n",
       "    <tr>\n",
       "      <th>max</th>\n",
       "      <td>1.000000</td>\n",
       "      <td>72.000000</td>\n",
       "      <td>118.750000</td>\n",
       "    </tr>\n",
       "  </tbody>\n",
       "</table>\n",
       "</div>"
      ],
      "text/plain": [
       "       SeniorCitizen       tenure  MonthlyCharges\n",
       "count    7043.000000  7043.000000     7043.000000\n",
       "mean        0.162147    32.371149       64.761692\n",
       "std         0.368612    24.559481       30.090047\n",
       "min         0.000000     0.000000       18.250000\n",
       "25%         0.000000     9.000000       35.500000\n",
       "50%         0.000000    29.000000       70.350000\n",
       "75%         0.000000    55.000000       89.850000\n",
       "max         1.000000    72.000000      118.750000"
      ]
     },
     "execution_count": 39,
     "metadata": {},
     "output_type": "execute_result"
    }
   ],
   "source": [
    "#Summary statistics of the numerical categories\n",
    "df_clean.describe()"
   ]
  },
  {
   "cell_type": "code",
   "execution_count": 40,
   "metadata": {},
   "outputs": [
    {
     "data": {
      "text/plain": [
       "<matplotlib.axes._subplots.AxesSubplot at 0x27d4628b760>"
      ]
     },
     "execution_count": 40,
     "metadata": {},
     "output_type": "execute_result"
    },
    {
     "data": {
      "image/png": "[encoded data removed]",
      "text/plain": [
       "<Figure size 432x288 with 1 Axes>"
      ]
     },
     "metadata": {},
     "output_type": "display_data"
    }
   ],
   "source": [
    "#Boxplot for Monthly and Total Charges.\n",
    "sns.boxplot( y=df_clean[\"MonthlyCharges\"] )"
   ]
  },
  {
   "cell_type": "markdown",
   "metadata": {},
   "source": [
    "<b>1. Monthly Charges</b>"
   ]
  },
  {
   "cell_type": "code",
   "execution_count": 41,
   "metadata": {},
   "outputs": [
    {
     "data": {
      "image/png": "[encoded data removed]",
      "text/plain": [
       "<Figure size 432x288 with 1 Axes>"
      ]
     },
     "metadata": {},
     "output_type": "display_data"
    }
   ],
   "source": [
    "sns.set_style('whitegrid')\n",
    "g2 = sns.kdeplot(df_clean[df_clean['Churn'] == 'Yes']['MonthlyCharges'], shade=True, color=\"b\", label='Churn=Yes')\n",
    "g2 = sns.kdeplot(df_clean[df_clean['Churn'] == 'No']['MonthlyCharges'], shade=True, color=\"r\", label='Churn=No')\n",
    "plt.legend(loc='center left', bbox_to_anchor=(1, 0.5))\n",
    "plt.xlabel('Monthly Charges ($)', fontsize=18)\n",
    "plt.ylabel('Frequency', fontsize=18)\n",
    "plt.show()"
   ]
  },
  {
   "cell_type": "code",
   "execution_count": 42,
   "metadata": {},
   "outputs": [],
   "source": [
    "# Code to define values and coerce the numerical MonthlyCharges into a categorical feature.\n",
    "def charges(data):\n",
    "    if 0 < data  <= 70 :\n",
    "        return 'LowCharge'\n",
    "    else:\n",
    "        return 'HighCharge'\n",
    "\n",
    "df_clean['MonthlyCharges'] = df_clean['MonthlyCharges'].apply(charges)"
   ]
  },
  {
   "cell_type": "markdown",
   "metadata": {},
   "source": [
    "<b>2. Tenure</b>"
   ]
  },
  {
   "cell_type": "code",
   "execution_count": 43,
   "metadata": {},
   "outputs": [
    {
     "data": {
      "image/png": "[encoded data removed]",
      "text/plain": [
       "<Figure size 432x288 with 1 Axes>"
      ]
     },
     "metadata": {},
     "output_type": "display_data"
    }
   ],
   "source": [
    "sns.set_style('whitegrid')\n",
    "g1 = sns.kdeplot(df_clean[df_clean['Churn'] == 'Yes']['tenure'], shade=True, color=\"b\", label='Churn = Yes')\n",
    "g1 = sns.kdeplot(df_clean[df_clean['Churn'] == 'No']['tenure'], shade=True, color=\"r\", label='Churn = No')\n",
    "plt.legend(loc='center left', bbox_to_anchor=(1, 0.5))\n",
    "plt.xlabel('Tenure (Months)', fontsize=18)\n",
    "plt.ylabel('Frequency', fontsize=18)\n",
    "plt.show()"
   ]
  },
  {
   "cell_type": "code",
   "execution_count": 44,
   "metadata": {},
   "outputs": [],
   "source": [
    "def display_percent(plot, feature, total):\n",
    "    for p in ax.patches:\n",
    "        percentage = '{:.1f}%'.format(100 * p.get_height() / total)\n",
    "        x = p.get_x() + p.get_width() / 2\n",
    "        y = p.get_y() + p.get_height()\n",
    "        ax.annotate(percentage, (x, y), size = 10, ha=\"center\")\n",
    "    plt.show()"
   ]
  },
  {
   "cell_type": "code",
   "execution_count": 45,
   "metadata": {},
   "outputs": [
    {
     "data": {
      "image/png": "[encoded data removed]",
      "text/plain": [
       "<Figure size 720x360 with 1 Axes>"
      ]
     },
     "metadata": {},
     "output_type": "display_data"
    }
   ],
   "source": [
    "p = sns.color_palette(\"spring\", 10)\n",
    "p.reverse()\n",
    "\n",
    "df_top_churn = pd.DataFrame(df_clean[df_clean['Churn'] == 'Yes']['tenure'].value_counts().sort_values(ascending=False))\n",
    "total_churn = df_clean[df_clean['Churn'] == 'Yes'].shape[0]\n",
    "\n",
    "fig, ax = plt.subplots(figsize=(10,5))\n",
    "sns_lifespan = sns.barplot( x = df_top_churn[:10].index, y = df_top_churn[:10].tenure, ax=ax, palette=p, order=df_top_churn[:10].index)\n",
    "plt.xticks(size=12)\n",
    "plt.xlabel('Customer Lifespan (in months)', size=12)\n",
    "plt.yticks(size=12)\n",
    "plt.ylabel('Churn', size=12)\n",
    "plt.tick_params(labelleft=False)\n",
    "\n",
    "display_percent(ax, df_top_churn, total_churn)"
   ]
  },
  {
   "cell_type": "code",
   "execution_count": 46,
   "metadata": {},
   "outputs": [],
   "source": [
    "# Code to define values and coerce the numerical tenure into a categorical feature.\n",
    "def tenure(data):\n",
    "    if 0 < data  <= 24 :\n",
    "        return 'Short'\n",
    "    else:\n",
    "        return 'Long'\n",
    "\n",
    "df_clean['tenure'] = df_clean['tenure'].apply(tenure)"
   ]
  },
  {
   "cell_type": "markdown",
   "metadata": {},
   "source": [
    "<b>3. Recode Senior Citizen from numeric to categorical.</b>\n",
    "<br>Recode any additional columns.</br>"
   ]
  },
  {
   "cell_type": "code",
   "execution_count": 47,
   "metadata": {},
   "outputs": [
    {
     "data": {
      "text/plain": [
       "array(['No', 'Yes'], dtype=object)"
      ]
     },
     "execution_count": 47,
     "metadata": {},
     "output_type": "execute_result"
    }
   ],
   "source": [
    "#Recode SeniorCitizen\n",
    "senior = {0 : 'No',\n",
    "        1 : 'Yes'}\n",
    "df_clean['SeniorCitizen'] = df_clean['SeniorCitizen'].map(senior)\n",
    "df_clean['SeniorCitizen'].unique()"
   ]
  },
  {
   "cell_type": "code",
   "execution_count": 48,
   "metadata": {},
   "outputs": [
    {
     "data": {
      "text/plain": [
       "Churn               0\n",
       "OnlineSecurity      0\n",
       "SeniorCitizen       0\n",
       "Partner             0\n",
       "Dependents          0\n",
       "tenure              0\n",
       "PhoneService        0\n",
       "MultipleLines       0\n",
       "InternetService     0\n",
       "OnlineBackup        0\n",
       "MonthlyCharges      0\n",
       "DeviceProtection    0\n",
       "TechSupport         0\n",
       "StreamingTV         0\n",
       "StreamingMovies     0\n",
       "Contract            0\n",
       "PaperlessBilling    0\n",
       "PaymentMethod       0\n",
       "gender              0\n",
       "dtype: int64"
      ]
     },
     "execution_count": 48,
     "metadata": {},
     "output_type": "execute_result"
    }
   ],
   "source": [
    "recode = {'No phone service' : 'No',\n",
    "          'No internet service' : 'No',\n",
    "            'Fiber optic' : 'Fiberoptic',\n",
    "            'Month-to-month' : 'MtM',\n",
    "            'Two year' : 'TwoYr',\n",
    "            'One year' : 'OneYr' ,\n",
    "            'Electronic check' : 'check',\n",
    "            'Mailed check' : 'check',\n",
    "            'Bank transfer (automatic)' : 'automatic',\n",
    "            'Credit card (automatic)' : 'automatic'\n",
    "            }\n",
    "df_clean.replace(recode, inplace=True)\n",
    "df_clean.isnull().sum().sort_values(ascending=False)"
   ]
  },
  {
   "cell_type": "code",
   "execution_count": 49,
   "metadata": {},
   "outputs": [
    {
     "data": {
      "text/html": [
       "<div>\n",
       "<style scoped>\n",
       "    .dataframe tbody tr th:only-of-type {\n",
       "        vertical-align: middle;\n",
       "    }\n",
       "\n",
       "    .dataframe tbody tr th {\n",
       "        vertical-align: top;\n",
       "    }\n",
       "\n",
       "    .dataframe thead th {\n",
       "        text-align: right;\n",
       "    }\n",
       "</style>\n",
       "<table border=\"1\" class=\"dataframe\">\n",
       "  <thead>\n",
       "    <tr style=\"text-align: right;\">\n",
       "      <th></th>\n",
       "      <th>gender</th>\n",
       "      <th>SeniorCitizen</th>\n",
       "      <th>Partner</th>\n",
       "      <th>Dependents</th>\n",
       "      <th>tenure</th>\n",
       "      <th>PhoneService</th>\n",
       "      <th>MultipleLines</th>\n",
       "      <th>InternetService</th>\n",
       "      <th>OnlineSecurity</th>\n",
       "      <th>OnlineBackup</th>\n",
       "      <th>DeviceProtection</th>\n",
       "      <th>TechSupport</th>\n",
       "      <th>StreamingTV</th>\n",
       "      <th>StreamingMovies</th>\n",
       "      <th>Contract</th>\n",
       "      <th>PaperlessBilling</th>\n",
       "      <th>PaymentMethod</th>\n",
       "      <th>MonthlyCharges</th>\n",
       "      <th>Churn</th>\n",
       "    </tr>\n",
       "  </thead>\n",
       "  <tbody>\n",
       "    <tr>\n",
       "      <th>0</th>\n",
       "      <td>Female</td>\n",
       "      <td>No</td>\n",
       "      <td>Yes</td>\n",
       "      <td>No</td>\n",
       "      <td>Short</td>\n",
       "      <td>No</td>\n",
       "      <td>No</td>\n",
       "      <td>DSL</td>\n",
       "      <td>No</td>\n",
       "      <td>Yes</td>\n",
       "      <td>No</td>\n",
       "      <td>No</td>\n",
       "      <td>No</td>\n",
       "      <td>No</td>\n",
       "      <td>MtM</td>\n",
       "      <td>Yes</td>\n",
       "      <td>check</td>\n",
       "      <td>LowCharge</td>\n",
       "      <td>No</td>\n",
       "    </tr>\n",
       "    <tr>\n",
       "      <th>1</th>\n",
       "      <td>Male</td>\n",
       "      <td>No</td>\n",
       "      <td>No</td>\n",
       "      <td>No</td>\n",
       "      <td>Long</td>\n",
       "      <td>Yes</td>\n",
       "      <td>No</td>\n",
       "      <td>DSL</td>\n",
       "      <td>Yes</td>\n",
       "      <td>No</td>\n",
       "      <td>Yes</td>\n",
       "      <td>No</td>\n",
       "      <td>No</td>\n",
       "      <td>No</td>\n",
       "      <td>OneYr</td>\n",
       "      <td>No</td>\n",
       "      <td>check</td>\n",
       "      <td>LowCharge</td>\n",
       "      <td>No</td>\n",
       "    </tr>\n",
       "    <tr>\n",
       "      <th>2</th>\n",
       "      <td>Male</td>\n",
       "      <td>No</td>\n",
       "      <td>No</td>\n",
       "      <td>No</td>\n",
       "      <td>Short</td>\n",
       "      <td>Yes</td>\n",
       "      <td>No</td>\n",
       "      <td>DSL</td>\n",
       "      <td>Yes</td>\n",
       "      <td>Yes</td>\n",
       "      <td>No</td>\n",
       "      <td>No</td>\n",
       "      <td>No</td>\n",
       "      <td>No</td>\n",
       "      <td>MtM</td>\n",
       "      <td>Yes</td>\n",
       "      <td>check</td>\n",
       "      <td>LowCharge</td>\n",
       "      <td>Yes</td>\n",
       "    </tr>\n",
       "    <tr>\n",
       "      <th>3</th>\n",
       "      <td>Male</td>\n",
       "      <td>No</td>\n",
       "      <td>No</td>\n",
       "      <td>No</td>\n",
       "      <td>Long</td>\n",
       "      <td>No</td>\n",
       "      <td>No</td>\n",
       "      <td>DSL</td>\n",
       "      <td>Yes</td>\n",
       "      <td>No</td>\n",
       "      <td>Yes</td>\n",
       "      <td>Yes</td>\n",
       "      <td>No</td>\n",
       "      <td>No</td>\n",
       "      <td>OneYr</td>\n",
       "      <td>No</td>\n",
       "      <td>automatic</td>\n",
       "      <td>LowCharge</td>\n",
       "      <td>No</td>\n",
       "    </tr>\n",
       "    <tr>\n",
       "      <th>4</th>\n",
       "      <td>Female</td>\n",
       "      <td>No</td>\n",
       "      <td>No</td>\n",
       "      <td>No</td>\n",
       "      <td>Short</td>\n",
       "      <td>Yes</td>\n",
       "      <td>No</td>\n",
       "      <td>Fiberoptic</td>\n",
       "      <td>No</td>\n",
       "      <td>No</td>\n",
       "      <td>No</td>\n",
       "      <td>No</td>\n",
       "      <td>No</td>\n",
       "      <td>No</td>\n",
       "      <td>MtM</td>\n",
       "      <td>Yes</td>\n",
       "      <td>check</td>\n",
       "      <td>HighCharge</td>\n",
       "      <td>Yes</td>\n",
       "    </tr>\n",
       "  </tbody>\n",
       "</table>\n",
       "</div>"
      ],
      "text/plain": [
       "   gender SeniorCitizen Partner Dependents tenure PhoneService MultipleLines  \\\n",
       "0  Female            No     Yes         No  Short           No            No   \n",
       "1    Male            No      No         No   Long          Yes            No   \n",
       "2    Male            No      No         No  Short          Yes            No   \n",
       "3    Male            No      No         No   Long           No            No   \n",
       "4  Female            No      No         No  Short          Yes            No   \n",
       "\n",
       "  InternetService OnlineSecurity OnlineBackup DeviceProtection TechSupport  \\\n",
       "0             DSL             No          Yes               No          No   \n",
       "1             DSL            Yes           No              Yes          No   \n",
       "2             DSL            Yes          Yes               No          No   \n",
       "3             DSL            Yes           No              Yes         Yes   \n",
       "4      Fiberoptic             No           No               No          No   \n",
       "\n",
       "  StreamingTV StreamingMovies Contract PaperlessBilling PaymentMethod  \\\n",
       "0          No              No      MtM              Yes         check   \n",
       "1          No              No    OneYr               No         check   \n",
       "2          No              No      MtM              Yes         check   \n",
       "3          No              No    OneYr               No     automatic   \n",
       "4          No              No      MtM              Yes         check   \n",
       "\n",
       "  MonthlyCharges Churn  \n",
       "0      LowCharge    No  \n",
       "1      LowCharge    No  \n",
       "2      LowCharge   Yes  \n",
       "3      LowCharge    No  \n",
       "4     HighCharge   Yes  "
      ]
     },
     "execution_count": 49,
     "metadata": {},
     "output_type": "execute_result"
    }
   ],
   "source": [
    "df_clean.head()"
   ]
  },
  {
   "cell_type": "markdown",
   "metadata": {},
   "source": [
    "<b>Visualize and explore overall churn rate.</b>"
   ]
  },
  {
   "cell_type": "code",
   "execution_count": 50,
   "metadata": {},
   "outputs": [
    {
     "name": "stdout",
     "output_type": "stream",
     "text": [
      "Proportion of customers that did churn: 26.5%\n",
      "Proportion of customers that did not churn: 73.5%\n"
     ]
    },
    {
     "data": {
      "image/png": "[encoded data removed]",
      "text/plain": [
       "<Figure size 432x288 with 1 Axes>"
      ]
     },
     "metadata": {},
     "output_type": "display_data"
    }
   ],
   "source": [
    "fig, ax = plt.subplots()\n",
    "sns.countplot(df_clean['Churn'], palette='spring')\n",
    "\n",
    "plt.xticks(size=12)\n",
    "plt.xlabel('Churn', size=12)\n",
    "plt.yticks(size=12)\n",
    "plt.ylabel('# Customers', size=12)\n",
    "\n",
    "for p in ax.patches:\n",
    "        ax.annotate('{:.0f}'.format(p.get_height()), (p.get_x()+0.1, p.get_height()+50))\n",
    "\n",
    "mt1 = df_clean.Churn.value_counts(normalize='columns')*100\n",
    "print(\"Proportion of customers that did churn: {:.1f}%\".format(mt1.iloc[1]))\n",
    "print(\"Proportion of customers that did not churn: {:.1f}%\".format(mt1.iloc[0]))"
   ]
  },
  {
   "cell_type": "markdown",
   "metadata": {},
   "source": [
    "<b>Explore individual categorical feature and churn rates.</b>"
   ]
  },
  {
   "cell_type": "code",
   "execution_count": 51,
   "metadata": {
    "scrolled": true
   },
   "outputs": [
    {
     "name": "stdout",
     "output_type": "stream",
     "text": [
      "Churn                       churn_No  churn_Yes                   variable2\n",
      "variable2                                                                  \n",
      "Contract_TwoYr              0.971681   0.028319              Contract_TwoYr\n",
      "InternetService_No          0.925950   0.074050          InternetService_No\n",
      "Contract_OneYr              0.887305   0.112695              Contract_OneYr\n",
      "tenure_Long                 0.860042   0.139958                 tenure_Long\n",
      "OnlineSecurity_Yes          0.853888   0.146112          OnlineSecurity_Yes\n",
      "TechSupport_Yes             0.848337   0.151663             TechSupport_Yes\n",
      "Dependents_Yes              0.845498   0.154502              Dependents_Yes\n",
      "PaymentMethod_automatic     0.840183   0.159817     PaymentMethod_automatic\n",
      "PaperlessBilling_No         0.836699   0.163301         PaperlessBilling_No\n",
      "MonthlyCharges_LowCharge    0.826012   0.173988    MonthlyCharges_LowCharge\n",
      "InternetService_DSL         0.810409   0.189591         InternetService_DSL\n",
      "Partner_Yes                 0.803351   0.196649                 Partner_Yes\n",
      "OnlineBackup_Yes            0.784685   0.215315            OnlineBackup_Yes\n",
      "DeviceProtection_Yes        0.774979   0.225021        DeviceProtection_Yes\n",
      "SeniorCitizen_No            0.763938   0.236062            SeniorCitizen_No\n",
      "StreamingTV_No              0.756688   0.243312              StreamingTV_No\n",
      "StreamingMovies_No          0.756205   0.243795          StreamingMovies_No\n",
      "PhoneService_No             0.750733   0.249267             PhoneService_No\n",
      "MultipleLines_No            0.749754   0.250246            MultipleLines_No\n",
      "PhoneService_Yes            0.732904   0.267096            PhoneService_Yes\n",
      "MultipleLines_Yes           0.713901   0.286099           MultipleLines_Yes\n",
      "DeviceProtection_No         0.713482   0.286518         DeviceProtection_No\n",
      "OnlineBackup_No             0.708279   0.291721             OnlineBackup_No\n",
      "StreamingMovies_Yes         0.700586   0.299414         StreamingMovies_Yes\n",
      "StreamingTV_Yes             0.699298   0.300702             StreamingTV_Yes\n",
      "TechSupport_No              0.688138   0.311862              TechSupport_No\n",
      "Dependents_No               0.687209   0.312791               Dependents_No\n",
      "OnlineSecurity_No           0.686704   0.313296           OnlineSecurity_No\n",
      "Partner_No                  0.670420   0.329580                  Partner_No\n",
      "PaperlessBilling_Yes        0.664349   0.335651        PaperlessBilling_Yes\n",
      "PaymentMethod_check         0.653256   0.346744         PaymentMethod_check\n",
      "MonthlyCharges_HighCharge   0.646386   0.353614   MonthlyCharges_HighCharge\n",
      "tenure_Short                0.583932   0.416068                tenure_Short\n",
      "SeniorCitizen_Yes           0.583187   0.416813           SeniorCitizen_Yes\n",
      "InternetService_Fiberoptic  0.581072   0.418928  InternetService_Fiberoptic\n",
      "Contract_MtM                0.572903   0.427097                Contract_MtM\n"
     ]
    }
   ],
   "source": [
    "#Transform dataset from wide to narrow\n",
    "df_transform = pd.melt(df_clean, id_vars=['Churn'], value_vars=df_clean[df_clean.columns[1:18]],\n",
    "             var_name='variable1', value_name='event')\n",
    "\n",
    "#Concatenate two columns to create a descriptive variable name\n",
    "df_transform['variable2'] = df_transform['variable1'] +'_'+df_transform['event']\n",
    "\n",
    "col1 = pd.crosstab(df_transform.Churn, df_transform.variable2, normalize='columns').T.add_prefix('churn_')\n",
    "col2 = col1.assign(**col1.index.to_frame()).sort_values(['churn_Yes']) #sort event based on churn rate\n",
    "print(col2)"
   ]
  },
  {
   "cell_type": "code",
   "execution_count": 52,
   "metadata": {
    "scrolled": true
   },
   "outputs": [
    {
     "data": {
      "image/png": "[encoded data removed]",
      "text/plain": [
       "<Figure size 1080x1080 with 1 Axes>"
      ]
     },
     "metadata": {},
     "output_type": "display_data"
    }
   ],
   "source": [
    "plt.figure(figsize=(15,15))\n",
    "\n",
    "sns.barplot(y='variable2', x='churn_Yes', data=col2, palette='spring')\n",
    "t1 = sns.set_style('whitegrid')\n",
    "plt.xlabel('Average Churn Rate', fontsize=18)\n",
    "plt.ylabel('Feature', fontsize=18)\n",
    "plt.axvline(.265, ls=\":\", lw=4, color='red', c=\".5\")\n",
    "plt.show()"
   ]
  },
  {
   "cell_type": "markdown",
   "metadata": {},
   "source": [
    "<h3>Exploring Categorical Features</h3>\n",
    "<br>What are some features that indicate a correlation to high customer churn?</br>"
   ]
  },
  {
   "cell_type": "code",
   "execution_count": 53,
   "metadata": {},
   "outputs": [],
   "source": [
    "# helper funtion - display count plot\n",
    "def displayCountPlot(cat_list, df, rows=1, columns=3, figsize=(14,2.5), export=False):\n",
    "    \n",
    "  fig, ax = plt.subplots(ncols=columns, figsize=figsize)\n",
    "  \n",
    "  idx = 0\n",
    "  for c in cat_list:\n",
    "    idx += 1\n",
    "    plt.subplot(rows, columns, idx)\n",
    "    ax = sns.countplot(x=df[c], data=df, palette='spring')\n",
    "\n",
    "    plt.xticks(size=10)\n",
    "    plt.xlabel('')\n",
    "    plt.yticks(size=12)\n",
    "    plt.ylabel('')\n",
    "    plt.subplots_adjust(hspace = 0.4)\n",
    "    ax.tick_params(labelleft=False)\n",
    "    ax.set_title(c, alpha=0.8)\n",
    "\n",
    "    print_rate(ax, df.shape[0])\n",
    "\n",
    "def print_rate(ax, total):\n",
    "  for p in ax.patches:\n",
    "    text = '{:.1f}% ({})'.format(100 * p.get_height() / total, p.get_height())\n",
    "    x = p.get_x() + p.get_width() / 2\n",
    "    y = p.get_y() + p.get_height() * 0.5\n",
    "    ax.annotate(text, (x, y), size = 10, ha=\"center\", va=\"center\")\n"
   ]
  },
  {
   "cell_type": "code",
   "execution_count": 54,
   "metadata": {},
   "outputs": [],
   "source": [
    "df_churn = df_clean[df_clean['Churn'] == 'Yes']\n",
    "df_churn = df_churn.drop('Churn', axis=1)\n",
    "\n",
    "df_churn.loc[df_churn['SeniorCitizen'] == 0,'SeniorCitizen'] = 'No' \n",
    "df_churn.loc[df_churn['SeniorCitizen'] == 1,'SeniorCitizen'] = 'Yes'\n",
    "\n",
    "lifespan = ['tenure']\n",
    "personal = ['gender', 'SeniorCitizen', 'Partner', 'Dependents']\n",
    "services = ['PhoneService', 'MultipleLines', 'InternetService', 'OnlineSecurity',\n",
    "                          'OnlineBackup', 'DeviceProtection', 'TechSupport', 'StreamingTV',\n",
    "                          'StreamingMovies']\n",
    "contract = ['Contract', 'PaperlessBilling', 'PaymentMethod']"
   ]
  },
  {
   "cell_type": "markdown",
   "metadata": {},
   "source": [
    "<h3><b>Understanding the Customer Lifespan</b></h3>"
   ]
  },
  {
   "cell_type": "markdown",
   "metadata": {},
   "source": [
    "<b>How has the customer lifespan impact the level of customer churn?</b>\n",
    "<br>Customers are 2.5 times more likely to churn before they hit the two year mark with the company.</br>"
   ]
  },
  {
   "cell_type": "code",
   "execution_count": 55,
   "metadata": {
    "scrolled": true
   },
   "outputs": [
    {
     "data": {
      "image/png": "[encoded data removed]",
      "text/plain": [
       "<Figure size 720x360 with 1 Axes>"
      ]
     },
     "metadata": {},
     "output_type": "display_data"
    }
   ],
   "source": [
    "displayCountPlot(lifespan, df_churn, rows=1, columns=1, figsize=(10,5), export=True)"
   ]
  },
  {
   "cell_type": "markdown",
   "metadata": {},
   "source": [
    "<h3><b>Understanding Customer Profiles</b></h3>\n",
    "Customer profiles are grouped into three categories: personal attributes, types of services, and contract aspects."
   ]
  },
  {
   "cell_type": "markdown",
   "metadata": {},
   "source": [
    "<b>Category by Personal Attributes</b>\n",
    "\n",
    "<br>Here are some observations:</br>\n",
    "<br>Gender does not seem to have an impact on churn rate.</br>\n",
    "<br>Those that have identified as Senior Citizens are 3 times likely to churn.</br>\n",
    "<br>Those that do not have a partner are almost twice as likely to churn.</br>\n",
    "<br>Those that do not have dependents are almost five times as likely to churn.</br>"
   ]
  },
  {
   "cell_type": "code",
   "execution_count": 56,
   "metadata": {},
   "outputs": [
    {
     "data": {
      "image/png": "[encoded data removed]",
      "text/plain": [
       "<Figure size 1440x360 with 4 Axes>"
      ]
     },
     "metadata": {},
     "output_type": "display_data"
    }
   ],
   "source": [
    "displayCountPlot(personal, df_churn, rows=1, columns=4, figsize=(20,5), export=True)"
   ]
  },
  {
   "cell_type": "markdown",
   "metadata": {},
   "source": [
    "<b>Category by Services</b>\n",
    "\n",
    "<br>Here are some observations:</br>\n",
    "<br>The majority of customers that cancel their subscription have Phone Service enabled.</br>\n",
    "<br>Those that have fiber optic internet service are almost three times more likely to cancel that those with DSL.</br>\n",
    "<br>Customers that do not have Online Security, Device Protection, Online Backup, and Tech Support services enabled are more likely to leave.</br>\n",
    "<br>From these observations, it indicates that customers with less services with the company are very likely to leave.</br>"
   ]
  },
  {
   "cell_type": "code",
   "execution_count": 57,
   "metadata": {},
   "outputs": [
    {
     "data": {
      "image/png": "[encoded data removed]",
      "text/plain": [
       "<Figure size 1152x720 with 9 Axes>"
      ]
     },
     "metadata": {},
     "output_type": "display_data"
    }
   ],
   "source": [
    "displayCountPlot(services, df_churn, rows=3, columns=3, figsize=(16,10), export=True)"
   ]
  },
  {
   "cell_type": "markdown",
   "metadata": {},
   "source": [
    "<b>Category by Contract Aspects</b>\n",
    "\n",
    "<br>Here are some observations:</br>\n",
    "<br>Those with a month to month contract, and paperless billing with an electronic check payment are most likely to leave.</br>"
   ]
  },
  {
   "cell_type": "code",
   "execution_count": 58,
   "metadata": {},
   "outputs": [
    {
     "data": {
      "image/png": "[encoded data removed]",
      "text/plain": [
       "<Figure size 1152x216 with 3 Axes>"
      ]
     },
     "metadata": {},
     "output_type": "display_data"
    }
   ],
   "source": [
    "displayCountPlot(contract, df_churn, rows=1, columns=3, figsize=(16,3), export=True)"
   ]
  },
  {
   "cell_type": "code",
   "execution_count": null,
   "metadata": {},
   "outputs": [],
   "source": [
    "df_clean.to_csv('clean_churn.csv') # Export df_clean dataframe to csv file."
   ]
  }
 ],
 "metadata": {
  "kernelspec": {
   "display_name": "Python 3",
   "language": "python",
   "name": "python3"
  },
  "language_info": {
   "codemirror_mode": {
    "name": "ipython",
    "version": 3
   },
   "file_extension": ".py",
   "mimetype": "text/x-python",
   "name": "python",
   "nbconvert_exporter": "python",
   "pygments_lexer": "ipython3",
   "version": "3.8.3"
  }
 },
 "nbformat": 4,
 "nbformat_minor": 4
}
